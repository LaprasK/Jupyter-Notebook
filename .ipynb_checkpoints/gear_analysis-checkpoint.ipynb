{
 "cells": [
  {
   "cell_type": "code",
   "execution_count": 215,
   "metadata": {
    "collapsed": true
   },
   "outputs": [],
   "source": [
    "import helpy\n",
    "import numpy as np\n",
    "import matplotlib.pyplot as plt"
   ]
  },
  {
   "cell_type": "code",
   "execution_count": 216,
   "metadata": {
    "collapsed": true
   },
   "outputs": [],
   "source": [
    "prefix = '/Users/zhejun/Document/Result/0622/result'"
   ]
  },
  {
   "cell_type": "code",
   "execution_count": 217,
   "metadata": {
    "collapsed": false
   },
   "outputs": [],
   "source": [
    "data = helpy.load_data(prefix)"
   ]
  },
  {
   "cell_type": "code",
   "execution_count": 218,
   "metadata": {
    "collapsed": false
   },
   "outputs": [],
   "source": [
    "fpdata = helpy.load_framesets(data)"
   ]
  },
  {
   "cell_type": "code",
   "execution_count": 219,
   "metadata": {
    "collapsed": false
   },
   "outputs": [],
   "source": [
    "tracksets = helpy.load_tracksets(data, run_track_orient=True)"
   ]
  },
  {
   "cell_type": "code",
   "execution_count": 233,
   "metadata": {
    "collapsed": false
   },
   "outputs": [
    {
     "data": {
      "text/plain": [
       "<module 'velocity' from '/Users/zhejun/Document/Research Code/track/velocity.pyc'>"
      ]
     },
     "execution_count": 233,
     "metadata": {},
     "output_type": "execute_result"
    }
   ],
   "source": [
    "reload(velocity)"
   ]
  },
  {
   "cell_type": "code",
   "execution_count": 234,
   "metadata": {
    "collapsed": false
   },
   "outputs": [],
   "source": [
    "vtest = velocity.noise_derivatives(tracksets[1], side = 36, fps = 2.5)"
   ]
  },
  {
   "cell_type": "code",
   "execution_count": 256,
   "metadata": {
    "collapsed": false
   },
   "outputs": [],
   "source": [
    "helpy.load_tracksets?"
   ]
  },
  {
   "cell_type": "code",
   "execution_count": 227,
   "metadata": {
    "collapsed": false
   },
   "outputs": [
    {
     "data": {
      "text/plain": [
       "dtype({'names':['o','v','xy','x','y','par','nt','perp','eta','etax','etay','etapar','f'], 'formats':['<f4','<f4',('<f4', (2,)),'<f4','<f4','<f4',('<f4', (2,)),'<f4','<f4','<f4','<f4','<f4','<u2'], 'offsets':[0,4,8,8,12,16,16,20,24,28,32,36,40], 'itemsize':42})"
      ]
     },
     "execution_count": 227,
     "metadata": {},
     "output_type": "execute_result"
    }
   ],
   "source": [
    "vtest.dtype()"
   ]
  },
  {
   "cell_type": "code",
   "execution_count": 236,
   "metadata": {
    "collapsed": false
   },
   "outputs": [],
   "source": [
    "track_test = {prefix: tracksets}"
   ]
  },
  {
   "cell_type": "code",
   "execution_count": 8,
   "metadata": {
    "collapsed": false
   },
   "outputs": [
    {
     "data": {
      "text/plain": [
       "<module 'helpy' from '/Users/zhejun/Document/Research Code/track/helpy.pyc'>"
      ]
     },
     "execution_count": 8,
     "metadata": {},
     "output_type": "execute_result"
    }
   ],
   "source": [
    "reload(velocity)\n",
    "reload(helpy)"
   ]
  },
  {
   "cell_type": "code",
   "execution_count": 237,
   "metadata": {
    "collapsed": true
   },
   "outputs": [],
   "source": [
    "meta = helpy.load_meta(prefix)\n",
    "x0, y0, R = meta.get('boundary')"
   ]
  },
  {
   "cell_type": "code",
   "execution_count": 257,
   "metadata": {
    "collapsed": false
   },
   "outputs": [],
   "source": [
    "v = velocity.compile_noise(track_test, cat = True, side = 36, fps = 2.5, ring = True,x0= x0, y0 = y0)"
   ]
  },
  {
   "cell_type": "code",
   "execution_count": 10,
   "metadata": {
    "collapsed": false
   },
   "outputs": [],
   "source": [
    "vsets = {t: velocity.noise_derivatives(ts, side = 36, fps = 1.5) for t, ts in tracksets.iteritems()}"
   ]
  },
  {
   "cell_type": "code",
   "execution_count": 269,
   "metadata": {
    "collapsed": false
   },
   "outputs": [
    {
     "data": {
      "text/plain": [
       "-270.0"
      ]
     },
     "execution_count": 269,
     "metadata": {},
     "output_type": "execute_result"
    }
   ],
   "source": [
    "max(np.degrees((v['corient'] - v['vorient'])))"
   ]
  },
  {
   "cell_type": "code",
   "execution_count": 252,
   "metadata": {
    "collapsed": false
   },
   "outputs": [],
   "source": [
    "vtest = velocity.ring_velocity_derivatives(tracksets[234], x0 = x0, y0 =y0)"
   ]
  },
  {
   "cell_type": "code",
   "execution_count": 275,
   "metadata": {
    "collapsed": false
   },
   "outputs": [
    {
     "data": {
      "text/plain": [
       "4.7567368"
      ]
     },
     "execution_count": 275,
     "metadata": {},
     "output_type": "execute_result"
    }
   ],
   "source": [
    "min(v['vorient'])"
   ]
  },
  {
   "cell_type": "code",
   "execution_count": 254,
   "metadata": {
    "collapsed": false
   },
   "outputs": [
    {
     "data": {
      "text/plain": [
       "0.010025511"
      ]
     },
     "execution_count": 254,
     "metadata": {},
     "output_type": "execute_result"
    }
   ],
   "source": [
    "vtest[100]['vring']"
   ]
  },
  {
   "cell_type": "code",
   "execution_count": 280,
   "metadata": {
    "collapsed": false
   },
   "outputs": [
    {
     "data": {
      "text/plain": [
       "1.5110264"
      ]
     },
     "execution_count": 280,
     "metadata": {},
     "output_type": "execute_result"
    }
   ],
   "source": [
    "max(v['corient'])"
   ]
  },
  {
   "cell_type": "code",
   "execution_count": 23,
   "metadata": {
    "collapsed": true
   },
   "outputs": [],
   "source": [
    "vdata = np.concatenate([fvsets[f] for f in fs])"
   ]
  },
  {
   "cell_type": "code",
   "execution_count": 28,
   "metadata": {
    "collapsed": false
   },
   "outputs": [
    {
     "ename": "ValueError",
     "evalue": "no field of name t",
     "output_type": "error",
     "traceback": [
      "\u001b[0;31m---------------------------------------------------------------------------\u001b[0m",
      "\u001b[0;31mValueError\u001b[0m                                Traceback (most recent call last)",
      "\u001b[0;32m<ipython-input-28-4a0d0773729f>\u001b[0m in \u001b[0;36m<module>\u001b[0;34m()\u001b[0m\n\u001b[0;32m----> 1\u001b[0;31m \u001b[0mhelpy\u001b[0m\u001b[0;34m.\u001b[0m\u001b[0mload_tracksets\u001b[0m\u001b[0;34m(\u001b[0m\u001b[0mvdata\u001b[0m\u001b[0;34m)\u001b[0m\u001b[0;34m\u001b[0m\u001b[0m\n\u001b[0m",
      "\u001b[0;32m/Users/zhejun/Document/Research Code/track/helpy.pyc\u001b[0m in \u001b[0;36mload_tracksets\u001b[0;34m(data, trackids, min_length, track_slice, verbose, run_remove_dupes, run_repair, run_track_orient)\u001b[0m\n\u001b[1;32m   1039\u001b[0m     \u001b[0;32mif\u001b[0m \u001b[0mtrackids\u001b[0m \u001b[0;32mis\u001b[0m \u001b[0mNone\u001b[0m\u001b[0;34m:\u001b[0m\u001b[0;34m\u001b[0m\u001b[0m\n\u001b[1;32m   1040\u001b[0m         \u001b[0;31m# copy actually speeds it up by a factor of two\u001b[0m\u001b[0;34m\u001b[0m\u001b[0;34m\u001b[0m\u001b[0m\n\u001b[0;32m-> 1041\u001b[0;31m         \u001b[0mtrackids\u001b[0m \u001b[0;34m=\u001b[0m \u001b[0mdata\u001b[0m\u001b[0;34m[\u001b[0m\u001b[0;34m't'\u001b[0m\u001b[0;34m]\u001b[0m\u001b[0;34m.\u001b[0m\u001b[0mcopy\u001b[0m\u001b[0;34m(\u001b[0m\u001b[0;34m)\u001b[0m\u001b[0;34m\u001b[0m\u001b[0m\n\u001b[0m\u001b[1;32m   1042\u001b[0m     \u001b[0;32melif\u001b[0m \u001b[0;32mnot\u001b[0m \u001b[0mtrackids\u001b[0m\u001b[0;34m.\u001b[0m\u001b[0mflags\u001b[0m\u001b[0;34m.\u001b[0m\u001b[0mowndata\u001b[0m\u001b[0;34m:\u001b[0m\u001b[0;34m\u001b[0m\u001b[0m\n\u001b[1;32m   1043\u001b[0m         \u001b[0;31m# copy in case called as ...(data, data['t'])\u001b[0m\u001b[0;34m\u001b[0m\u001b[0;34m\u001b[0m\u001b[0m\n",
      "\u001b[0;31mValueError\u001b[0m: no field of name t"
     ]
    }
   ],
   "source": [
    "helpy.load_tracksets(vdata)"
   ]
  },
  {
   "cell_type": "code",
   "execution_count": 39,
   "metadata": {
    "collapsed": false
   },
   "outputs": [],
   "source": [
    "def data_filter(data, x0 , y0 , inner, outer):\n",
    "    x = data['x']\n",
    "    y = data['y']\n",
    "    position = [x - x0, y - y0]\n",
    "    distance = np.hypot(*position)\n",
    "    legal = np.where((distance < outer) & (distance > inner))\n",
    "    return legal"
   ]
  },
  {
   "cell_type": "code",
   "execution_count": 28,
   "metadata": {
    "collapsed": false
   },
   "outputs": [
    {
     "data": {
      "text/plain": [
       "dtype({'names':['o','v','xy','x','y','par','nt','perp','eta','etax','etay','etapar','f'], 'formats':['<f4','<f4',('<f4', (2,)),'<f4','<f4','<f4',('<f4', (2,)),'<f4','<f4','<f4','<f4','<f4','<f4'], 'offsets':[0,4,8,8,12,16,16,20,24,28,32,36,40], 'itemsize':44})"
      ]
     },
     "execution_count": 28,
     "metadata": {},
     "output_type": "execute_result"
    }
   ],
   "source": [
    "time[0].dtype"
   ]
  },
  {
   "cell_type": "code",
   "execution_count": 54,
   "metadata": {
    "collapsed": true
   },
   "outputs": [],
   "source": [
    "x0, y0, R = meta.get('boundary')"
   ]
  },
  {
   "cell_type": "code",
   "execution_count": 56,
   "metadata": {
    "collapsed": false
   },
   "outputs": [],
   "source": [
    "legal = data_filter(test, x0, y0, R - 40, R)"
   ]
  },
  {
   "cell_type": "code",
   "execution_count": 29,
   "metadata": {
    "collapsed": false
   },
   "outputs": [
    {
     "data": {
      "text/plain": [
       "array([[ -8.32585711e-03,  -7.37903640e-03],\n",
       "       [ -3.06136673e-03,  -3.72639834e-03],\n",
       "       [ -4.09231009e-03,  -1.81390566e-03],\n",
       "       [ -2.52511539e-03,  -5.49705047e-03],\n",
       "       [ -4.31151071e-04,  -1.20983748e-02],\n",
       "       [ -4.06400673e-03,  -3.08934180e-03],\n",
       "       [ -9.33605339e-03,  -9.39325057e-03],\n",
       "       [ -4.49189078e-03,  -1.15217280e-03],\n",
       "       [ -3.05052171e-03,  -1.32671855e-02],\n",
       "       [ -3.31804110e-03,  -4.24260693e-03],\n",
       "       [ -5.77458460e-03,  -1.87198911e-03],\n",
       "       [ -4.52824868e-03,  -4.52715252e-03],\n",
       "       [ -2.67614401e-03,  -4.70355293e-03],\n",
       "       [ -3.23027559e-03,  -3.03681684e-03],\n",
       "       [ -1.86296296e-03,  -1.09748859e-02],\n",
       "       [ -4.67903214e-03,   3.37392674e-03],\n",
       "       [  1.35266106e-03,  -1.45847779e-02],\n",
       "       [  1.91983173e-03,  -2.51009082e-03],\n",
       "       [  9.48613044e-04,  -4.85008629e-03],\n",
       "       [ -1.68096216e-03,  -2.08427035e-03],\n",
       "       [ -2.07939674e-03,  -1.62647087e-02],\n",
       "       [ -2.40578433e-03,  -1.43210473e-03],\n",
       "       [  9.89502994e-04,  -1.01341065e-02],\n",
       "       [ -8.32517690e-04,  -6.69251243e-03],\n",
       "       [  2.11402238e-03,   2.06799945e-03],\n",
       "       [ -1.65477744e-03,  -1.11705568e-02],\n",
       "       [  9.55742784e-04,   5.16627450e-03],\n",
       "       [  6.52262103e-03,  -1.58567950e-02],\n",
       "       [  5.27695884e-05,   2.02715374e-03],\n",
       "       [  1.29000621e-03,  -7.69408699e-03],\n",
       "       [ -4.14451538e-03,  -7.85435643e-03],\n",
       "       [  8.57122475e-04,   2.26035831e-04],\n",
       "       [ -5.87630551e-04,  -9.59282462e-03],\n",
       "       [ -1.05516682e-03,  -8.93199071e-03],\n",
       "       [ -1.88907655e-03,  -1.02062132e-02],\n",
       "       [  1.76636409e-03,  -8.10577068e-03],\n",
       "       [ -1.11257320e-03,   7.94342812e-03],\n",
       "       [  1.12524151e-03,  -1.65154636e-02],\n",
       "       [  1.02004281e-03,  -5.91638451e-03],\n",
       "       [  3.51216906e-04,  -1.52093526e-02],\n",
       "       [ -1.88919250e-03,   1.82280922e-03],\n",
       "       [ -7.93979780e-05,   4.60973661e-03],\n",
       "       [ -3.64218117e-03,  -7.76458066e-03],\n",
       "       [  3.60122323e-03,  -1.84472986e-02],\n",
       "       [  9.55043361e-04,  -3.24823242e-03],\n",
       "       [  5.05762640e-03,  -1.91698670e-02],\n",
       "       [  2.58403132e-03,  -4.93279565e-03],\n",
       "       [  2.93875160e-03,   4.19596909e-03],\n",
       "       [  4.90169390e-04,   9.93595924e-04],\n",
       "       [  1.33735838e-03,  -1.95853552e-03],\n",
       "       [ -1.52052986e-03,  -6.28747093e-03],\n",
       "       [ -2.43543717e-03,  -7.60859251e-03],\n",
       "       [  9.94993257e-04,   4.93508577e-03],\n",
       "       [  2.04198202e-03,  -1.63611956e-02],\n",
       "       [  4.18136362e-03,  -6.66415272e-03],\n",
       "       [  1.36039779e-03,  -1.75805278e-02],\n",
       "       [ -1.05314120e-03,  -4.34123166e-03],\n",
       "       [  3.99869122e-03,   6.06242288e-03],\n",
       "       [  9.97730764e-04,  -3.70678282e-03],\n",
       "       [  7.07952713e-04,   6.04420342e-03],\n",
       "       [  1.76129735e-03,   2.39592907e-03],\n",
       "       [  1.15475719e-04,   9.37893405e-04],\n",
       "       [ -1.21584191e-04,  -1.36694321e-02],\n",
       "       [  2.78615742e-03,  -1.69924106e-02],\n",
       "       [ -8.54603131e-04,  -3.34518705e-03],\n",
       "       [ -4.81549883e-04,  -2.65038013e-03],\n",
       "       [ -6.19031998e-05,  -1.35033503e-02],\n",
       "       [  4.83209547e-03,  -3.86411883e-03],\n",
       "       [  2.84411362e-03,   8.01145285e-03],\n",
       "       [  2.21742527e-03,  -6.67390926e-03],\n",
       "       [  2.92716897e-03,  -7.96495751e-03],\n",
       "       [  2.83699716e-03,  -1.34857697e-02],\n",
       "       [  8.90165847e-03,   3.26407352e-03],\n",
       "       [  6.29134011e-03,  -3.70453252e-03],\n",
       "       [  3.55574116e-03,   5.93415112e-04],\n",
       "       [  8.94050021e-03,  -1.13813560e-02],\n",
       "       [  5.93926851e-03,   1.40591746e-03],\n",
       "       [ -1.04133307e-03,   9.76629555e-03],\n",
       "       [  4.07814281e-03,  -7.71983759e-03],\n",
       "       [  4.80097346e-03,  -4.49649431e-03],\n",
       "       [  6.76994771e-03,  -1.31235719e-02],\n",
       "       [  5.08854073e-03,   8.00285395e-03],\n",
       "       [  7.15987338e-03,  -1.96913239e-02],\n",
       "       [  7.92434253e-03,   1.48553646e-03],\n",
       "       [  2.88702315e-03,  -1.23866880e-02],\n",
       "       [ -1.97610445e-03,  -2.07856926e-03],\n",
       "       [  6.62526069e-03,  -4.35606530e-03],\n",
       "       [  4.97602019e-03,  -1.45350499e-02],\n",
       "       [  3.54412571e-03,  -3.72723676e-03],\n",
       "       [  3.33142490e-03,   2.92752590e-03],\n",
       "       [  4.19356441e-03,  -2.10254285e-02],\n",
       "       [ -8.28465818e-06,  -4.45507094e-03],\n",
       "       [  7.99834169e-03,   7.74829695e-03],\n",
       "       [  8.06670729e-03,   2.03853892e-03],\n",
       "       [  8.56596231e-03,  -9.78308823e-03],\n",
       "       [  9.18731932e-03,   1.10561103e-02],\n",
       "       [  7.07445107e-03,  -1.56221595e-02],\n",
       "       [  5.01816673e-03,  -6.88419258e-03],\n",
       "       [  9.42097697e-03,  -9.86422598e-03],\n",
       "       [  1.02199316e-02,  -5.75350365e-03],\n",
       "       [  7.57907052e-03,  -8.81710183e-03],\n",
       "       [  9.67143942e-03,  -4.44916775e-03],\n",
       "       [  7.86104333e-03,  -4.51200735e-03],\n",
       "       [  6.16012653e-03,  -2.10438203e-02],\n",
       "       [  1.21730044e-02,   3.67929880e-03],\n",
       "       [  1.04599623e-02,  -3.52178351e-04],\n",
       "       [  7.50709558e-03,  -1.57864429e-02],\n",
       "       [  1.06499847e-02,   1.84132438e-03],\n",
       "       [  4.81132837e-03,  -1.32038153e-03],\n",
       "       [  8.95365980e-03,   4.81528603e-03],\n",
       "       [  1.75550627e-03,  -1.40151996e-02],\n",
       "       [  3.34112463e-03,   9.05671343e-03],\n",
       "       [  1.24349743e-02,  -1.01514831e-02],\n",
       "       [  1.18733300e-02,  -8.07847641e-03],\n",
       "       [  6.08361606e-03,  -2.70775100e-03],\n",
       "       [  8.86125118e-03,  -5.72177675e-03],\n",
       "       [  1.36700235e-02,  -9.94586386e-03],\n",
       "       [  8.18741135e-03,  -9.16113984e-03],\n",
       "       [  7.98694696e-03,   1.86483865e-03],\n",
       "       [  7.84795731e-03,  -1.57357100e-02],\n",
       "       [  9.08436719e-03,   4.73128166e-03],\n",
       "       [  6.81051891e-03,  -1.69505477e-02],\n",
       "       [  8.13258905e-03,   1.79447210e-03],\n",
       "       [  1.27841085e-02,  -1.20461325e-03],\n",
       "       [  6.10017730e-03,  -1.34169850e-02],\n",
       "       [  1.27774961e-02,  -4.36907960e-03],\n",
       "       [  1.31421406e-02,   3.28235066e-04],\n",
       "       [  1.07994163e-02,  -1.74710583e-02],\n",
       "       [  8.54234118e-03,  -1.50291733e-02],\n",
       "       [  1.36706159e-02,  -1.01313554e-02],\n",
       "       [  1.59955174e-02,  -1.25881825e-02],\n",
       "       [  7.58951297e-03,  -2.21810713e-02],\n",
       "       [  1.00107165e-02,   7.95218814e-03],\n",
       "       [  9.21945088e-03,  -6.39796956e-03],\n",
       "       [  1.50675140e-02,  -7.69811869e-03],\n",
       "       [  9.51210130e-03,   1.13607594e-03],\n",
       "       [  9.14391223e-03,   8.68602749e-03],\n",
       "       [  5.97362593e-03,  -9.68154985e-03],\n",
       "       [  9.83410981e-03,  -9.64317378e-03],\n",
       "       [  7.30329147e-03,   8.14475934e-04],\n",
       "       [  6.64139353e-03,  -9.36035626e-03],\n",
       "       [  1.09346174e-02,   3.33731179e-03],\n",
       "       [  9.37449187e-03,   1.97076192e-03],\n",
       "       [  7.18653714e-03,   5.83934947e-04],\n",
       "       [  9.20479465e-03,   1.21555277e-04],\n",
       "       [  1.01517569e-02,  -1.38151087e-02],\n",
       "       [  1.01651307e-02,  -7.32342340e-03],\n",
       "       [  1.69209559e-02,  -1.10748131e-02],\n",
       "       [  2.77778809e-03,  -1.58600789e-02],\n",
       "       [  9.27415863e-03,  -8.58792011e-03],\n",
       "       [  1.09449383e-02,   5.83143858e-03],\n",
       "       [  1.31023657e-02,   8.47579140e-05],\n",
       "       [  1.15289111e-02,  -3.52772768e-03],\n",
       "       [  9.66781005e-03,  -1.72623768e-02],\n",
       "       [  1.38122290e-02,  -5.27283191e-05],\n",
       "       [  1.35763884e-02,  -1.11771410e-03],\n",
       "       [  1.39912143e-02,   1.03846043e-02],\n",
       "       [  1.12608587e-02,  -1.85998753e-02],\n",
       "       [  1.79305337e-02,  -1.56465657e-02],\n",
       "       [  8.62262305e-03,  -8.34282720e-04],\n",
       "       [  1.92817785e-02,  -1.62379332e-02],\n",
       "       [  1.54084796e-02,  -8.27649329e-03],\n",
       "       [  1.32079795e-02,  -1.11266682e-02],\n",
       "       [  1.34362420e-02,  -1.95793584e-02],\n",
       "       [  8.31548125e-03,   2.92527233e-03],\n",
       "       [  8.27838853e-03,   3.17219761e-03],\n",
       "       [  7.76831247e-03,  -1.92845650e-02],\n",
       "       [  1.46679003e-02,   9.99238249e-03],\n",
       "       [  1.36285853e-02,  -5.74834459e-03],\n",
       "       [  1.10405348e-02,   3.96218011e-03],\n",
       "       [  7.91065302e-03,  -3.31869605e-03],\n",
       "       [  1.66655071e-02,  -5.20869438e-03],\n",
       "       [  1.46837635e-02,   6.08922157e-04],\n",
       "       [  1.86956078e-02,   3.11544770e-03],\n",
       "       [  1.46746682e-02,  -9.84884799e-03],\n",
       "       [  1.18002798e-02,  -3.66782676e-03],\n",
       "       [  1.01836314e-02,  -1.28977224e-02],\n",
       "       [  1.33988503e-02,  -9.49788932e-03],\n",
       "       [  1.04331635e-02,   2.17337496e-04],\n",
       "       [  1.11077130e-02,  -9.10952315e-03],\n",
       "       [  1.56712178e-02,  -3.54613439e-04],\n",
       "       [  1.29163302e-02,   6.08018599e-03],\n",
       "       [  1.34934317e-02,  -1.86173636e-02],\n",
       "       [  1.71670970e-02,  -1.16555477e-02],\n",
       "       [  1.37109235e-02,  -2.72866013e-03],\n",
       "       [  1.31340791e-02,  -1.70879364e-02],\n",
       "       [  2.18352657e-02,  -1.36677921e-03],\n",
       "       [  1.41366282e-02,  -1.19307442e-02],\n",
       "       [  1.56281888e-02,  -9.76409204e-03],\n",
       "       [  8.85009393e-03,  -1.14408578e-03],\n",
       "       [  1.14207426e-02,  -5.07490709e-03],\n",
       "       [  1.32046714e-02,  -1.34499222e-02],\n",
       "       [  1.62663721e-02,  -1.45385537e-04],\n",
       "       [  2.20230296e-02,  -1.17729502e-02],\n",
       "       [  1.16999773e-02,  -6.67325919e-03],\n",
       "       [  1.05339028e-02,  -6.98842620e-03],\n",
       "       [  1.52554922e-02,   1.92935159e-03],\n",
       "       [  1.63853429e-02,  -1.34363035e-02],\n",
       "       [  1.94602851e-02,   2.20799609e-03],\n",
       "       [  1.82221308e-02,  -1.40607217e-02],\n",
       "       [  1.20945852e-02,  -1.22187333e-02],\n",
       "       [  1.58274751e-02,  -2.80147605e-03],\n",
       "       [  1.27234859e-02,  -1.39165262e-03],\n",
       "       [  8.60790350e-03,   2.52073444e-03],\n",
       "       [  1.58527289e-02,  -1.33143477e-02],\n",
       "       [  1.30880792e-02,  -4.71957773e-03],\n",
       "       [  2.07654051e-02,  -2.23458232e-03],\n",
       "       [  1.63682532e-02,   6.54024305e-03],\n",
       "       [  2.31118146e-02,  -7.66774174e-03],\n",
       "       [  1.63438600e-02,  -5.74203674e-03],\n",
       "       [  1.70276295e-02,  -1.50443811e-03],\n",
       "       [  1.19560538e-02,  -1.45132840e-02],\n",
       "       [  2.16456838e-02,   2.40061083e-03],\n",
       "       [  1.76686887e-02,  -6.48099231e-03],\n",
       "       [  1.48360804e-02,  -1.71798877e-02],\n",
       "       [  1.76733937e-02,  -4.02582297e-03],\n",
       "       [  1.54237598e-02,  -6.71417871e-03],\n",
       "       [  1.88336596e-02,   1.44225312e-03],\n",
       "       [  1.69239994e-02,   2.39017000e-03],\n",
       "       [  2.08113678e-02,  -5.98838320e-03],\n",
       "       [  2.26638541e-02,  -1.12147210e-02],\n",
       "       [  2.14745570e-02,  -1.17207048e-02],\n",
       "       [  1.78610310e-02,   4.06871579e-04],\n",
       "       [  1.21665429e-02,  -5.49172610e-03],\n",
       "       [  1.46319401e-02,  -1.16661508e-02],\n",
       "       [  2.36076526e-02,   1.15258410e-03],\n",
       "       [  2.17155181e-02,   1.29835168e-03],\n",
       "       [  2.07164418e-02,  -1.52439885e-02],\n",
       "       [  2.39440538e-02,  -7.72490911e-03],\n",
       "       [  1.93468630e-02,  -4.80915606e-03],\n",
       "       [  1.65355131e-02,  -5.78861590e-03],\n",
       "       [  2.47739516e-02,  -2.18179473e-03],\n",
       "       [  1.42913358e-02,  -8.49046931e-03],\n",
       "       [  1.99605636e-02,  -4.57265461e-03],\n",
       "       [  1.97721291e-02,  -7.57933315e-03],\n",
       "       [  2.03036498e-02,  -1.90745085e-03]], dtype=float32)"
      ]
     },
     "execution_count": 29,
     "metadata": {},
     "output_type": "execute_result"
    }
   ],
   "source": [
    "time[0]['xy']"
   ]
  },
  {
   "cell_type": "code",
   "execution_count": 65,
   "metadata": {
    "collapsed": false
   },
   "outputs": [
    {
     "data": {
      "text/plain": [
       "3.2873166"
      ]
     },
     "execution_count": 65,
     "metadata": {},
     "output_type": "execute_result"
    }
   ],
   "source": [
    "data[1]['o']"
   ]
  },
  {
   "cell_type": "code",
   "execution_count": 66,
   "metadata": {
    "collapsed": true
   },
   "outputs": [],
   "source": [
    "data['o'] = (data['o'] + np.pi)%(2*np.pi)"
   ]
  },
  {
   "cell_type": "code",
   "execution_count": 67,
   "metadata": {
    "collapsed": false
   },
   "outputs": [
    {
     "data": {
      "text/plain": [
       "0.14572382"
      ]
     },
     "execution_count": 67,
     "metadata": {},
     "output_type": "execute_result"
    }
   ],
   "source": [
    "data[1]['o']"
   ]
  },
  {
   "cell_type": "code",
   "execution_count": 68,
   "metadata": {
    "collapsed": true
   },
   "outputs": [],
   "source": [
    "fpdata = helpy.load_framesets(data)"
   ]
  },
  {
   "cell_type": "code",
   "execution_count": 70,
   "metadata": {
    "collapsed": false
   },
   "outputs": [],
   "source": [
    "test = fpdata[9998]"
   ]
  },
  {
   "cell_type": "code",
   "execution_count": 71,
   "metadata": {
    "collapsed": true
   },
   "outputs": [],
   "source": [
    "legal = data_filter(test, x0, y0, R - 40, R)"
   ]
  },
  {
   "cell_type": "code",
   "execution_count": 72,
   "metadata": {
    "collapsed": true
   },
   "outputs": [],
   "source": [
    "fpos = helpy.consecutive_fields_view(test[legal], 'xy')"
   ]
  },
  {
   "cell_type": "code",
   "execution_count": 73,
   "metadata": {
    "collapsed": true
   },
   "outputs": [],
   "source": [
    "position = fpos - [x0, y0]"
   ]
  },
  {
   "cell_type": "code",
   "execution_count": 75,
   "metadata": {
    "collapsed": false
   },
   "outputs": [],
   "source": [
    "cororient = test[legal]['o']"
   ]
  },
  {
   "cell_type": "code",
   "execution_count": 76,
   "metadata": {
    "collapsed": false
   },
   "outputs": [
    {
     "data": {
      "text/plain": [
       "array([ 3.89482546,  4.05115652,  3.81898355,  3.74569488,  4.20477581,\n",
       "        3.69417787,  4.18936491,  3.57243252,  4.3328476 ,  2.83437681,\n",
       "        1.99744177,  4.437397  ,  1.82265711,  2.97464895,  1.78358412,\n",
       "        1.76118135,  3.04078817,  4.71840286,  3.16268539,  4.78300667,\n",
       "        1.56275415,  3.31806254,  1.49677801,  3.34232187,  1.42345953,\n",
       "        3.44026279,  1.33219385,  3.56833124,  1.17055464,  3.61931586,\n",
       "        1.14844084,  5.30432367,  1.03142118,  5.42834759,  0.93184805,\n",
       "        3.95607257,  0.852777  ,  4.04790258,  0.70702124,  4.09475803,\n",
       "        0.67497635,  4.0190711 ,  0.57154512,  4.25033331,  2.14886427,\n",
       "        1.98382807,  5.93301296,  0.37305021,  5.91555786,  1.93044424,\n",
       "        5.96001339,  1.8000598 ,  6.1163702 ,  1.68670702,  4.55766296,\n",
       "        1.66144419,  4.81825495,  1.51542044,  0.10326624,  1.42908812,\n",
       "        0.14031935,  5.94824314,  4.90843153,  5.03626823,  6.01034498,\n",
       "        5.11695004,  1.20747614,  5.14752007,  5.84289742,  5.25053787,\n",
       "        5.73917007,  0.68655443,  5.58366251,  5.42337894,  5.557796  ], dtype=float32)"
      ]
     },
     "execution_count": 76,
     "metadata": {},
     "output_type": "execute_result"
    }
   ],
   "source": [
    "cororient"
   ]
  },
  {
   "cell_type": "code",
   "execution_count": 79,
   "metadata": {
    "collapsed": false
   },
   "outputs": [
    {
     "ename": "TypeError",
     "evalue": "data type not understood",
     "output_type": "error",
     "traceback": [
      "\u001b[0;31m---------------------------------------------------------------------------\u001b[0m",
      "\u001b[0;31mTypeError\u001b[0m                                 Traceback (most recent call last)",
      "\u001b[0;32m<ipython-input-79-5429c7dae839>\u001b[0m in \u001b[0;36m<module>\u001b[0;34m()\u001b[0m\n\u001b[0;32m----> 1\u001b[0;31m \u001b[0mcorunv\u001b[0m \u001b[0;34m=\u001b[0m \u001b[0mnp\u001b[0m\u001b[0;34m.\u001b[0m\u001b[0marray\u001b[0m\u001b[0;34m(\u001b[0m\u001b[0mnp\u001b[0m\u001b[0;34m.\u001b[0m\u001b[0mcos\u001b[0m\u001b[0;34m(\u001b[0m\u001b[0mcororient\u001b[0m\u001b[0;34m)\u001b[0m\u001b[0;34m,\u001b[0m \u001b[0mnp\u001b[0m\u001b[0;34m.\u001b[0m\u001b[0msin\u001b[0m\u001b[0;34m(\u001b[0m\u001b[0mcororient\u001b[0m\u001b[0;34m)\u001b[0m\u001b[0;34m)\u001b[0m\u001b[0;34m\u001b[0m\u001b[0m\n\u001b[0m",
      "\u001b[0;31mTypeError\u001b[0m: data type not understood"
     ]
    }
   ],
   "source": [
    "corunv = np.array(np.cos(cororient), np.sin(cororient))"
   ]
  },
  {
   "cell_type": "code",
   "execution_count": 82,
   "metadata": {
    "collapsed": false
   },
   "outputs": [],
   "source": [
    "corunv = np.array([np.cos(cororient), np.sin(cororient)]).T"
   ]
  },
  {
   "cell_type": "code",
   "execution_count": 6,
   "metadata": {
    "collapsed": true
   },
   "outputs": [],
   "source": [
    "import velocity"
   ]
  },
  {
   "cell_type": "code",
   "execution_count": 84,
   "metadata": {
    "collapsed": false
   },
   "outputs": [
    {
     "data": {
      "text/plain": [
       "236"
      ]
     },
     "execution_count": 84,
     "metadata": {},
     "output_type": "execute_result"
    }
   ],
   "source": [
    "len(tracksets)"
   ]
  },
  {
   "cell_type": "code",
   "execution_count": 89,
   "metadata": {
    "collapsed": false
   },
   "outputs": [
    {
     "ename": "AttributeError",
     "evalue": "'numpy.ndarray' object has no attribute 'iteritems'",
     "output_type": "error",
     "traceback": [
      "\u001b[0;31m---------------------------------------------------------------------------\u001b[0m",
      "\u001b[0;31mAttributeError\u001b[0m                            Traceback (most recent call last)",
      "\u001b[0;32m<ipython-input-89-7925e70924f6>\u001b[0m in \u001b[0;36m<module>\u001b[0;34m()\u001b[0m\n\u001b[0;32m----> 1\u001b[0;31m \u001b[0mv\u001b[0m \u001b[0;34m=\u001b[0m \u001b[0mvelocity\u001b[0m\u001b[0;34m.\u001b[0m\u001b[0mcompile_noise\u001b[0m\u001b[0;34m(\u001b[0m\u001b[0mtracksets\u001b[0m\u001b[0;34m,\u001b[0m \u001b[0mcat\u001b[0m\u001b[0;34m=\u001b[0m\u001b[0mFalse\u001b[0m\u001b[0;34m,\u001b[0m \u001b[0mside\u001b[0m\u001b[0;34m=\u001b[0m\u001b[0;36m36\u001b[0m\u001b[0;34m,\u001b[0m\u001b[0mfps\u001b[0m \u001b[0;34m=\u001b[0m \u001b[0;36m2.5\u001b[0m\u001b[0;34m)\u001b[0m\u001b[0;34m[\u001b[0m\u001b[0mprefix\u001b[0m\u001b[0;34m]\u001b[0m\u001b[0;34m\u001b[0m\u001b[0m\n\u001b[0m",
      "\u001b[0;32m/Users/zhejun/Document/Research Code/track/velocity.pyc\u001b[0m in \u001b[0;36mcompile_noise\u001b[0;34m(tracksets, width, cat, side, fps)\u001b[0m\n\u001b[1;32m    112\u001b[0m     \u001b[0;32mfor\u001b[0m \u001b[0mprefix\u001b[0m\u001b[0;34m,\u001b[0m \u001b[0mtsets\u001b[0m \u001b[0;32min\u001b[0m \u001b[0mtracksets\u001b[0m\u001b[0;34m.\u001b[0m\u001b[0miteritems\u001b[0m\u001b[0;34m(\u001b[0m\u001b[0;34m)\u001b[0m\u001b[0;34m:\u001b[0m\u001b[0;34m\u001b[0m\u001b[0m\n\u001b[1;32m    113\u001b[0m         vsets = {t: noise_derivatives(ts, width=width, side=side, fps=fps)\n\u001b[0;32m--> 114\u001b[0;31m                  for t, ts in tsets.iteritems()}\n\u001b[0m\u001b[1;32m    115\u001b[0m         \u001b[0;32mif\u001b[0m \u001b[0mcat\u001b[0m\u001b[0;34m:\u001b[0m\u001b[0;34m\u001b[0m\u001b[0m\n\u001b[1;32m    116\u001b[0m             \u001b[0mfsets\u001b[0m\u001b[0;34m,\u001b[0m \u001b[0mfvsets\u001b[0m \u001b[0;34m=\u001b[0m \u001b[0mhelpy\u001b[0m\u001b[0;34m.\u001b[0m\u001b[0mload_framesets\u001b[0m\u001b[0;34m(\u001b[0m\u001b[0;34m(\u001b[0m\u001b[0mtsets\u001b[0m\u001b[0;34m,\u001b[0m \u001b[0mvsets\u001b[0m\u001b[0;34m)\u001b[0m\u001b[0;34m)\u001b[0m\u001b[0;34m\u001b[0m\u001b[0m\n",
      "\u001b[0;31mAttributeError\u001b[0m: 'numpy.ndarray' object has no attribute 'iteritems'"
     ]
    }
   ],
   "source": [
    "v = velocity.compile_noise(tracksets, cat=False, side=36,fps = 2.5)[prefix]"
   ]
  },
  {
   "cell_type": "code",
   "execution_count": 18,
   "metadata": {
    "collapsed": true
   },
   "outputs": [],
   "source": [
    "track_test = {prefix: tracksets}"
   ]
  },
  {
   "cell_type": "code",
   "execution_count": 55,
   "metadata": {
    "collapsed": false
   },
   "outputs": [],
   "source": [
    "v = velocity.compile_noise(track_test, cat = False, side = 36, fps = 2.5)"
   ]
  },
  {
   "cell_type": "code",
   "execution_count": 56,
   "metadata": {
    "collapsed": false
   },
   "outputs": [],
   "source": [
    "vs = v[prefix]"
   ]
  },
  {
   "cell_type": "code",
   "execution_count": null,
   "metadata": {
    "collapsed": false
   },
   "outputs": [],
   "source": [
    "helpy.load_framesets(vs)"
   ]
  },
  {
   "cell_type": "code",
   "execution_count": 98,
   "metadata": {
    "collapsed": false
   },
   "outputs": [
    {
     "ename": "ValueError",
     "evalue": "no field of name f",
     "output_type": "error",
     "traceback": [
      "\u001b[0;31m---------------------------------------------------------------------------\u001b[0m",
      "\u001b[0;31mValueError\u001b[0m                                Traceback (most recent call last)",
      "\u001b[0;32m<ipython-input-98-21a8167b54d3>\u001b[0m in \u001b[0;36m<module>\u001b[0;34m()\u001b[0m\n\u001b[0;32m----> 1\u001b[0;31m \u001b[0mvst\u001b[0m \u001b[0;34m=\u001b[0m \u001b[0mhelpy\u001b[0m\u001b[0;34m.\u001b[0m\u001b[0mload_framesets\u001b[0m\u001b[0;34m(\u001b[0m\u001b[0mvs\u001b[0m\u001b[0;34m)\u001b[0m\u001b[0;34m\u001b[0m\u001b[0m\n\u001b[0m",
      "\u001b[0;32m/Users/zhejun/Document/Research Code/track/helpy.pyc\u001b[0m in \u001b[0;36mload_framesets\u001b[0;34m(data_or_tracksets, indices, ret_dict, **tset_args)\u001b[0m\n\u001b[1;32m   1086\u001b[0m             \u001b[0mdatum\u001b[0m \u001b[0;34m=\u001b[0m \u001b[0mnp\u001b[0m\u001b[0;34m.\u001b[0m\u001b[0mconcatenate\u001b[0m\u001b[0;34m(\u001b[0m\u001b[0;34m[\u001b[0m\u001b[0mdatum\u001b[0m\u001b[0;34m[\u001b[0m\u001b[0mk\u001b[0m\u001b[0;34m]\u001b[0m \u001b[0;32mfor\u001b[0m \u001b[0mk\u001b[0m \u001b[0;32min\u001b[0m \u001b[0msorted\u001b[0m\u001b[0;34m(\u001b[0m\u001b[0mdatum\u001b[0m\u001b[0;34m)\u001b[0m\u001b[0;34m]\u001b[0m\u001b[0;34m)\u001b[0m\u001b[0;34m\u001b[0m\u001b[0m\n\u001b[1;32m   1087\u001b[0m         \u001b[0mdata\u001b[0m\u001b[0;34m.\u001b[0m\u001b[0mappend\u001b[0m\u001b[0;34m(\u001b[0m\u001b[0mdatum\u001b[0m\u001b[0;34m)\u001b[0m\u001b[0;34m\u001b[0m\u001b[0m\n\u001b[0;32m-> 1088\u001b[0;31m     \u001b[0;32mreturn\u001b[0m \u001b[0msplitter\u001b[0m\u001b[0;34m(\u001b[0m\u001b[0mtuple\u001b[0m\u001b[0;34m(\u001b[0m\u001b[0mdata\u001b[0m\u001b[0;34m)\u001b[0m\u001b[0;34m,\u001b[0m \u001b[0mindices\u001b[0m\u001b[0;34m,\u001b[0m \u001b[0;34m**\u001b[0m\u001b[0msplitargs\u001b[0m\u001b[0;34m)\u001b[0m\u001b[0;34m\u001b[0m\u001b[0m\n\u001b[0m\u001b[1;32m   1089\u001b[0m \u001b[0;34m\u001b[0m\u001b[0m\n\u001b[1;32m   1090\u001b[0m \u001b[0;34m\u001b[0m\u001b[0m\n",
      "\u001b[0;32m/Users/zhejun/Document/Research Code/track/helpy.pyc\u001b[0m in \u001b[0;36msplitter\u001b[0;34m(data, indices, method, ret_dict, noncontiguous)\u001b[0m\n\u001b[1;32m    149\u001b[0m         \u001b[0mdata\u001b[0m \u001b[0;34m=\u001b[0m \u001b[0;34m(\u001b[0m\u001b[0mdata\u001b[0m\u001b[0;34m,\u001b[0m\u001b[0;34m)\u001b[0m\u001b[0;34m\u001b[0m\u001b[0m\n\u001b[1;32m    150\u001b[0m     \u001b[0;32mif\u001b[0m \u001b[0misinstance\u001b[0m\u001b[0;34m(\u001b[0m\u001b[0mindices\u001b[0m\u001b[0;34m,\u001b[0m \u001b[0mbasestring\u001b[0m\u001b[0;34m)\u001b[0m\u001b[0;34m:\u001b[0m\u001b[0;34m\u001b[0m\u001b[0m\n\u001b[0;32m--> 151\u001b[0;31m         \u001b[0mindices\u001b[0m \u001b[0;34m=\u001b[0m \u001b[0mdata\u001b[0m\u001b[0;34m[\u001b[0m\u001b[0;36m0\u001b[0m\u001b[0;34m]\u001b[0m\u001b[0;34m[\u001b[0m\u001b[0mindices\u001b[0m\u001b[0;34m]\u001b[0m\u001b[0;34m\u001b[0m\u001b[0m\n\u001b[0m\u001b[1;32m    152\u001b[0m     \u001b[0;32mif\u001b[0m \u001b[0mmethod\u001b[0m \u001b[0;32mis\u001b[0m \u001b[0mNone\u001b[0m\u001b[0;34m:\u001b[0m\u001b[0;34m\u001b[0m\u001b[0m\n\u001b[1;32m    153\u001b[0m         \u001b[0mmethod\u001b[0m \u001b[0;34m=\u001b[0m \u001b[0;34m'unique'\u001b[0m \u001b[0;32mif\u001b[0m \u001b[0mret_dict\u001b[0m \u001b[0;32mor\u001b[0m \u001b[0mnoncontiguous\u001b[0m \u001b[0;32melse\u001b[0m \u001b[0;34m'diff'\u001b[0m\u001b[0;34m\u001b[0m\u001b[0m\n",
      "\u001b[0;31mValueError\u001b[0m: no field of name f"
     ]
    }
   ],
   "source": [
    "vst = helpy.load_framesets(vs)"
   ]
  },
  {
   "cell_type": "code",
   "execution_count": 99,
   "metadata": {
    "collapsed": false
   },
   "outputs": [
    {
     "data": {
      "text/plain": [
       "(-0.08181487023830414, 0.029321860522031784, [0.02023894526064396, -0.021216895431280136], 0.02023894526064396, -0.021216895431280136, -0.01665947400033474, [-0.01665947400033474, -0.024129515513777733], -0.024129515513777733, nan, nan, nan, nan)"
      ]
     },
     "execution_count": 99,
     "metadata": {},
     "output_type": "execute_result"
    }
   ],
   "source": [
    "vs[1][2]"
   ]
  },
  {
   "cell_type": "code",
   "execution_count": 105,
   "metadata": {
    "collapsed": false
   },
   "outputs": [
    {
     "data": {
      "text/plain": [
       "236"
      ]
     },
     "execution_count": 105,
     "metadata": {},
     "output_type": "execute_result"
    }
   ],
   "source": [
    "len(vs.keys())"
   ]
  },
  {
   "cell_type": "code",
   "execution_count": 103,
   "metadata": {
    "collapsed": false
   },
   "outputs": [
    {
     "ename": "KeyError",
     "evalue": "237",
     "output_type": "error",
     "traceback": [
      "\u001b[0;31m---------------------------------------------------------------------------\u001b[0m",
      "\u001b[0;31mKeyError\u001b[0m                                  Traceback (most recent call last)",
      "\u001b[0;32m<ipython-input-103-7fb4d319f304>\u001b[0m in \u001b[0;36m<module>\u001b[0;34m()\u001b[0m\n\u001b[0;32m----> 1\u001b[0;31m \u001b[0mlen\u001b[0m\u001b[0;34m(\u001b[0m\u001b[0mvs\u001b[0m\u001b[0;34m[\u001b[0m\u001b[0;36m237\u001b[0m\u001b[0;34m]\u001b[0m\u001b[0;34m)\u001b[0m\u001b[0;34m\u001b[0m\u001b[0m\n\u001b[0m",
      "\u001b[0;31mKeyError\u001b[0m: 237"
     ]
    }
   ],
   "source": [
    "len(vs[237])"
   ]
  },
  {
   "cell_type": "code",
   "execution_count": 10,
   "metadata": {
    "collapsed": false
   },
   "outputs": [],
   "source": [
    "vtest = velocity.noise_derivatives(tracksets[1], side = 36, fps = 2.5)"
   ]
  },
  {
   "cell_type": "code",
   "execution_count": 11,
   "metadata": {
    "collapsed": false
   },
   "outputs": [
    {
     "ename": "ValueError",
     "evalue": "no field of name f",
     "output_type": "error",
     "traceback": [
      "\u001b[0;31m---------------------------------------------------------------------------\u001b[0m",
      "\u001b[0;31mValueError\u001b[0m                                Traceback (most recent call last)",
      "\u001b[0;32m<ipython-input-11-b7f2a470b967>\u001b[0m in \u001b[0;36m<module>\u001b[0;34m()\u001b[0m\n\u001b[0;32m----> 1\u001b[0;31m \u001b[0mvtest\u001b[0m\u001b[0;34m[\u001b[0m\u001b[0;34m'f'\u001b[0m\u001b[0;34m]\u001b[0m\u001b[0;34m\u001b[0m\u001b[0m\n\u001b[0m",
      "\u001b[0;31mValueError\u001b[0m: no field of name f"
     ]
    }
   ],
   "source": [
    "vtest['f']"
   ]
  },
  {
   "cell_type": "code",
   "execution_count": 111,
   "metadata": {
    "collapsed": false
   },
   "outputs": [
    {
     "data": {
      "text/plain": [
       "0.26068977"
      ]
     },
     "execution_count": 111,
     "metadata": {},
     "output_type": "execute_result"
    }
   ],
   "source": [
    "max(vs[1]['x'])"
   ]
  },
  {
   "cell_type": "code",
   "execution_count": 112,
   "metadata": {
    "collapsed": true
   },
   "outputs": [],
   "source": [
    "width = (0.65,)"
   ]
  },
  {
   "cell_type": "code",
   "execution_count": 113,
   "metadata": {
    "collapsed": false
   },
   "outputs": [
    {
     "data": {
      "text/plain": [
       "1"
      ]
     },
     "execution_count": 113,
     "metadata": {},
     "output_type": "execute_result"
    }
   ],
   "source": [
    "len(width)"
   ]
  },
  {
   "cell_type": "code",
   "execution_count": 12,
   "metadata": {
    "collapsed": false
   },
   "outputs": [
    {
     "data": {
      "text/plain": [
       "<module 'velocity' from '/Users/zhejun/Document/Research Code/track/velocity.py'>"
      ]
     },
     "execution_count": 12,
     "metadata": {},
     "output_type": "execute_result"
    }
   ],
   "source": [
    "reload(velocity)"
   ]
  },
  {
   "cell_type": "code",
   "execution_count": 13,
   "metadata": {
    "collapsed": false
   },
   "outputs": [
    {
     "ename": "ValueError",
     "evalue": "no field of name f",
     "output_type": "error",
     "traceback": [
      "\u001b[0;31m---------------------------------------------------------------------------\u001b[0m",
      "\u001b[0;31mValueError\u001b[0m                                Traceback (most recent call last)",
      "\u001b[0;32m<ipython-input-13-e728cb741695>\u001b[0m in \u001b[0;36m<module>\u001b[0;34m()\u001b[0m\n\u001b[0;32m----> 1\u001b[0;31m \u001b[0mvtest\u001b[0m \u001b[0;34m=\u001b[0m \u001b[0mvelocity\u001b[0m\u001b[0;34m.\u001b[0m\u001b[0mnoise_derivatives\u001b[0m\u001b[0;34m(\u001b[0m\u001b[0mtracksets\u001b[0m\u001b[0;34m[\u001b[0m\u001b[0;36m1\u001b[0m\u001b[0;34m]\u001b[0m\u001b[0;34m,\u001b[0m \u001b[0mside\u001b[0m \u001b[0;34m=\u001b[0m \u001b[0;36m36\u001b[0m\u001b[0;34m,\u001b[0m \u001b[0mfps\u001b[0m \u001b[0;34m=\u001b[0m \u001b[0;36m2.5\u001b[0m\u001b[0;34m)\u001b[0m\u001b[0;34m\u001b[0m\u001b[0m\n\u001b[0m",
      "\u001b[0;32m/Users/zhejun/Document/Research Code/track/velocity.py\u001b[0m in \u001b[0;36mnoise_derivatives\u001b[0;34m(tdata, width, side, fps)\u001b[0m\n\u001b[1;32m     95\u001b[0m         v[oxy] = np.array([curve.der(tdata[oxy]/unit[oxy], x=x, iwidth=w)\n\u001b[1;32m     96\u001b[0m                            for w in width]).squeeze()\n\u001b[0;32m---> 97\u001b[0;31m     \u001b[0mv\u001b[0m\u001b[0;34m[\u001b[0m\u001b[0;34m'f'\u001b[0m\u001b[0;34m]\u001b[0m \u001b[0;34m=\u001b[0m \u001b[0mtdata\u001b[0m\u001b[0;34m[\u001b[0m\u001b[0;34m'f'\u001b[0m\u001b[0;34m]\u001b[0m\u001b[0;34m\u001b[0m\u001b[0m\n\u001b[0m\u001b[1;32m     98\u001b[0m     \u001b[0mv\u001b[0m\u001b[0;34m[\u001b[0m\u001b[0;34m'v'\u001b[0m\u001b[0;34m]\u001b[0m \u001b[0;34m=\u001b[0m \u001b[0mnp\u001b[0m\u001b[0;34m.\u001b[0m\u001b[0mhypot\u001b[0m\u001b[0;34m(\u001b[0m\u001b[0mv\u001b[0m\u001b[0;34m[\u001b[0m\u001b[0;34m'x'\u001b[0m\u001b[0;34m]\u001b[0m\u001b[0;34m,\u001b[0m \u001b[0mv\u001b[0m\u001b[0;34m[\u001b[0m\u001b[0;34m'y'\u001b[0m\u001b[0;34m]\u001b[0m\u001b[0;34m)\u001b[0m\u001b[0;34m\u001b[0m\u001b[0m\n\u001b[1;32m     99\u001b[0m     \u001b[0mv\u001b[0m\u001b[0;34m[\u001b[0m\u001b[0;34m'par'\u001b[0m\u001b[0;34m]\u001b[0m \u001b[0;34m=\u001b[0m \u001b[0mv\u001b[0m\u001b[0;34m[\u001b[0m\u001b[0;34m'x'\u001b[0m\u001b[0;34m]\u001b[0m\u001b[0;34m*\u001b[0m\u001b[0mcos\u001b[0m \u001b[0;34m+\u001b[0m \u001b[0mv\u001b[0m\u001b[0;34m[\u001b[0m\u001b[0;34m'y'\u001b[0m\u001b[0;34m]\u001b[0m\u001b[0;34m*\u001b[0m\u001b[0msin\u001b[0m\u001b[0;34m\u001b[0m\u001b[0m\n",
      "\u001b[0;31mValueError\u001b[0m: no field of name f"
     ]
    }
   ],
   "source": [
    "vtest = velocity.noise_derivatives(tracksets[1], side = 36, fps = 2.5)"
   ]
  },
  {
   "cell_type": "code",
   "execution_count": 14,
   "metadata": {
    "collapsed": false
   },
   "outputs": [
    {
     "data": {
      "text/plain": [
       "<module 'helpy' from '/Users/zhejun/Document/Research Code/track/helpy.py'>"
      ]
     },
     "execution_count": 14,
     "metadata": {},
     "output_type": "execute_result"
    }
   ],
   "source": [
    "reload(helpy)"
   ]
  },
  {
   "cell_type": "code",
   "execution_count": 15,
   "metadata": {
    "collapsed": false
   },
   "outputs": [
    {
     "data": {
      "text/plain": [
       "<module 'velocity' from '/Users/zhejun/Document/Research Code/track/velocity.pyc'>"
      ]
     },
     "execution_count": 15,
     "metadata": {},
     "output_type": "execute_result"
    }
   ],
   "source": [
    "reload(velocity)"
   ]
  },
  {
   "cell_type": "code",
   "execution_count": 16,
   "metadata": {
    "collapsed": true
   },
   "outputs": [],
   "source": [
    "vtest = velocity.noise_derivatives(tracksets[1], side = 36, fps = 2.5)"
   ]
  },
  {
   "cell_type": "code",
   "execution_count": 17,
   "metadata": {
    "collapsed": false
   },
   "outputs": [
    {
     "data": {
      "text/plain": [
       "array([ (0.005748670548200607, 0.00482265604659915, [-0.003061366733163595, -0.003726398339495063], -0.003061366733163595, -0.003726398339495063, 0.0035700248554348946, [0.0035700248554348946, -0.0032423653174191713], -0.0032423653174191713, nan, nan, nan, nan, 0.0),\n",
       "       (0.00942729040980339, 0.023767637088894844, [-0.02301701344549656, -0.005926012992858887], -0.02301701344549656, -0.005926012992858887, 0.02364535443484783, [0.02364535443484783, -0.0024078558199107647], -0.0024078558199107647, nan, nan, nan, nan, 1.0),\n",
       "       (-0.08181487023830414, 0.029321860522031784, [0.02023894526064396, -0.021216895431280136], 0.02023894526064396, -0.021216895431280136, -0.01665947400033474, [-0.01665947400033474, -0.024129515513777733], -0.024129515513777733, nan, nan, nan, nan, 2.0),\n",
       "       ...,\n",
       "       (0.012653367593884468, 0.043855808675289154, [0.0343208983540535, 0.027302158996462822], 0.0343208983540535, 0.027302158996462822, -0.01780177280306816, [-0.01780177280306816, -0.04008027911186218], -0.04008027911186218, nan, nan, nan, nan, 9996.0),\n",
       "       (-0.0017167889745905995, 0.051069241017103195, [0.04908226057887077, -0.014106706716120243], 0.04908226057887077, -0.014106706716120243, 0.025856129825115204, [0.025856129825115204, -0.044040072709321976], -0.044040072709321976, nan, nan, nan, nan, 9997.0),\n",
       "       (0.0007499497733078897, 0.040797535330057144, [0.012960280291736126, 0.03868423402309418], 0.012960280291736126, 0.03868423402309418, -0.03423397243022919, [-0.03423397243022919, -0.02219175547361374], -0.02219175547361374, nan, nan, nan, nan, 9998.0)], \n",
       "      dtype={'names':['o','v','xy','x','y','par','nt','perp','eta','etax','etay','etapar','f'], 'formats':['<f4','<f4',('<f4', (2,)),'<f4','<f4','<f4',('<f4', (2,)),'<f4','<f4','<f4','<f4','<f4','<f4'], 'offsets':[0,4,8,8,12,16,16,20,24,28,32,36,40], 'itemsize':44})"
      ]
     },
     "execution_count": 17,
     "metadata": {},
     "output_type": "execute_result"
    }
   ],
   "source": []
  },
  {
   "cell_type": "code",
   "execution_count": 121,
   "metadata": {
    "collapsed": true
   },
   "outputs": [],
   "source": [
    "import velocity"
   ]
  },
  {
   "cell_type": "code",
   "execution_count": 122,
   "metadata": {
    "collapsed": true
   },
   "outputs": [],
   "source": [
    "vtest = velocity.noise_derivatives(tracksets[1], side = 36, fps = 2.5)"
   ]
  },
  {
   "cell_type": "code",
   "execution_count": 123,
   "metadata": {
    "collapsed": false
   },
   "outputs": [
    {
     "data": {
      "text/plain": [
       "array([ (0.005748670548200607, 0.00482265604659915, [-0.003061366733163595, -0.003726398339495063], -0.003061366733163595, -0.003726398339495063, 0.0035700248554348946, [0.0035700248554348946, -0.0032423653174191713], -0.0032423653174191713, nan, nan, nan, nan),\n",
       "       (0.00942729040980339, 0.023767637088894844, [-0.02301701344549656, -0.005926012992858887], -0.02301701344549656, -0.005926012992858887, 0.02364535443484783, [0.02364535443484783, -0.0024078558199107647], -0.0024078558199107647, nan, nan, nan, nan),\n",
       "       (-0.08181487023830414, 0.029321860522031784, [0.02023894526064396, -0.021216895431280136], 0.02023894526064396, -0.021216895431280136, -0.01665947400033474, [-0.01665947400033474, -0.024129515513777733], -0.024129515513777733, nan, nan, nan, nan),\n",
       "       ...,\n",
       "       (0.012653367593884468, 0.043855808675289154, [0.0343208983540535, 0.027302158996462822], 0.0343208983540535, 0.027302158996462822, -0.01780177280306816, [-0.01780177280306816, -0.04008027911186218], -0.04008027911186218, nan, nan, nan, nan),\n",
       "       (-0.0017167889745905995, 0.051069241017103195, [0.04908226057887077, -0.014106706716120243], 0.04908226057887077, -0.014106706716120243, 0.025856129825115204, [0.025856129825115204, -0.044040072709321976], -0.044040072709321976, nan, nan, nan, nan),\n",
       "       (0.0007499497733078897, 0.040797535330057144, [0.012960280291736126, 0.03868423402309418], 0.012960280291736126, 0.03868423402309418, -0.03423397243022919, [-0.03423397243022919, -0.02219175547361374], -0.02219175547361374, nan, nan, nan, nan)], \n",
       "      dtype={'names':['o','v','xy','x','y','par','nt','perp','eta','etax','etay','etapar'], 'formats':['<f4','<f4',('<f4', (2,)),'<f4','<f4','<f4',('<f4', (2,)),'<f4','<f4','<f4','<f4','<f4'], 'offsets':[0,4,8,8,12,16,16,20,24,28,32,36], 'itemsize':40})"
      ]
     },
     "execution_count": 123,
     "metadata": {},
     "output_type": "execute_result"
    }
   ],
   "source": [
    "vtest"
   ]
  },
  {
   "cell_type": "code",
   "execution_count": 124,
   "metadata": {
    "collapsed": false
   },
   "outputs": [
    {
     "data": {
      "text/plain": [
       "<module 'velocity' from '/Users/zhejun/Document/Research Code/track/velocity.pyc'>"
      ]
     },
     "execution_count": 124,
     "metadata": {},
     "output_type": "execute_result"
    }
   ],
   "source": [
    "reload(velocity)"
   ]
  },
  {
   "cell_type": "code",
   "execution_count": 125,
   "metadata": {
    "collapsed": true
   },
   "outputs": [],
   "source": [
    "vtest = velocity.noise_derivatives(tracksets[1], side = 36, fps = 2.5)"
   ]
  },
  {
   "cell_type": "code",
   "execution_count": 126,
   "metadata": {
    "collapsed": false
   },
   "outputs": [
    {
     "data": {
      "text/plain": [
       "array([ (0.005748670548200607, 0.00482265604659915, [-0.003061366733163595, -0.003726398339495063], -0.003061366733163595, -0.003726398339495063, 0.0035700248554348946, [0.0035700248554348946, -0.0032423653174191713], -0.0032423653174191713, nan, nan, nan, nan),\n",
       "       (0.00942729040980339, 0.023767637088894844, [-0.02301701344549656, -0.005926012992858887], -0.02301701344549656, -0.005926012992858887, 0.02364535443484783, [0.02364535443484783, -0.0024078558199107647], -0.0024078558199107647, nan, nan, nan, nan),\n",
       "       (-0.08181487023830414, 0.029321860522031784, [0.02023894526064396, -0.021216895431280136], 0.02023894526064396, -0.021216895431280136, -0.01665947400033474, [-0.01665947400033474, -0.024129515513777733], -0.024129515513777733, nan, nan, nan, nan),\n",
       "       ...,\n",
       "       (0.012653367593884468, 0.043855808675289154, [0.0343208983540535, 0.027302158996462822], 0.0343208983540535, 0.027302158996462822, -0.01780177280306816, [-0.01780177280306816, -0.04008027911186218], -0.04008027911186218, nan, nan, nan, nan),\n",
       "       (-0.0017167889745905995, 0.051069241017103195, [0.04908226057887077, -0.014106706716120243], 0.04908226057887077, -0.014106706716120243, 0.025856129825115204, [0.025856129825115204, -0.044040072709321976], -0.044040072709321976, nan, nan, nan, nan),\n",
       "       (0.0007499497733078897, 0.040797535330057144, [0.012960280291736126, 0.03868423402309418], 0.012960280291736126, 0.03868423402309418, -0.03423397243022919, [-0.03423397243022919, -0.02219175547361374], -0.02219175547361374, nan, nan, nan, nan)], \n",
       "      dtype={'names':['o','v','xy','x','y','par','nt','perp','eta','etax','etay','etapar'], 'formats':['<f4','<f4',('<f4', (2,)),'<f4','<f4','<f4',('<f4', (2,)),'<f4','<f4','<f4','<f4','<f4'], 'offsets':[0,4,8,8,12,16,16,20,24,28,32,36], 'itemsize':40})"
      ]
     },
     "execution_count": 126,
     "metadata": {},
     "output_type": "execute_result"
    }
   ],
   "source": [
    "vtest"
   ]
  },
  {
   "cell_type": "code",
   "execution_count": 127,
   "metadata": {
    "collapsed": true
   },
   "outputs": [],
   "source": [
    "import helpy"
   ]
  },
  {
   "cell_type": "code",
   "execution_count": 128,
   "metadata": {
    "collapsed": true
   },
   "outputs": [],
   "source": [
    "import velocity"
   ]
  },
  {
   "cell_type": "code",
   "execution_count": 129,
   "metadata": {
    "collapsed": true
   },
   "outputs": [],
   "source": [
    "import tracks"
   ]
  },
  {
   "cell_type": "code",
   "execution_count": 130,
   "metadata": {
    "collapsed": true
   },
   "outputs": [],
   "source": [
    "vtest = velocity.noise_derivatives(tracksets[1], side = 36, fps = 2.5)"
   ]
  },
  {
   "cell_type": "code",
   "execution_count": 31,
   "metadata": {
    "collapsed": false
   },
   "outputs": [
    {
     "data": {
      "text/plain": [
       "236"
      ]
     },
     "execution_count": 31,
     "metadata": {},
     "output_type": "execute_result"
    }
   ],
   "source": [
    "len(tracksets.keys())"
   ]
  },
  {
   "cell_type": "code",
   "execution_count": 38,
   "metadata": {
    "collapsed": true
   },
   "outputs": [],
   "source": [
    "tttt = helpy.load_framesets(tracksets)"
   ]
  },
  {
   "cell_type": "code",
   "execution_count": 39,
   "metadata": {
    "collapsed": false
   },
   "outputs": [
    {
     "data": {
      "text/plain": [
       "9999"
      ]
     },
     "execution_count": 39,
     "metadata": {},
     "output_type": "execute_result"
    }
   ],
   "source": [
    "len(tttt.keys())"
   ]
  },
  {
   "cell_type": "code",
   "execution_count": 40,
   "metadata": {
    "collapsed": false
   },
   "outputs": [
    {
     "data": {
      "text/plain": [
       "dtype({'names':['id','f','t','xy','x','y','o'], 'formats':['<u4','<u2','<i4',('<f4', (2,)),'<f4','<f4','<f4'], 'offsets':[0,4,6,10,10,14,18], 'itemsize':22})"
      ]
     },
     "execution_count": 40,
     "metadata": {},
     "output_type": "execute_result"
    }
   ],
   "source": [
    "tttt[1].dtype"
   ]
  },
  {
   "cell_type": "code",
   "execution_count": 42,
   "metadata": {
    "collapsed": false
   },
   "outputs": [
    {
     "data": {
      "text/plain": [
       "dtype({'names':['id','f','t','xy','x','y','o'], 'formats':['<u4','<u2','<i4',('<f4', (2,)),'<f4','<f4','<f4'], 'offsets':[0,4,6,10,10,14,18], 'itemsize':22})"
      ]
     },
     "execution_count": 42,
     "metadata": {},
     "output_type": "execute_result"
    }
   ],
   "source": [
    "data.dtype"
   ]
  },
  {
   "cell_type": "code",
   "execution_count": 46,
   "metadata": {
    "collapsed": false
   },
   "outputs": [
    {
     "data": {
      "text/plain": [
       "(9999,)"
      ]
     },
     "execution_count": 46,
     "metadata": {},
     "output_type": "execute_result"
    }
   ],
   "source": [
    "() +tracksets[1].shape"
   ]
  },
  {
   "cell_type": "code",
   "execution_count": 48,
   "metadata": {
    "collapsed": false
   },
   "outputs": [
    {
     "data": {
      "text/plain": [
       "(20,)"
      ]
     },
     "execution_count": 48,
     "metadata": {},
     "output_type": "execute_result"
    }
   ],
   "source": [
    "() + (20,)"
   ]
  },
  {
   "cell_type": "code",
   "execution_count": 29,
   "metadata": {
    "collapsed": true
   },
   "outputs": [],
   "source": [
    "a = dict()"
   ]
  },
  {
   "cell_type": "code",
   "execution_count": 30,
   "metadata": {
    "collapsed": true
   },
   "outputs": [],
   "source": [
    "a = {1: 2, 3: 5, 4:5}"
   ]
  },
  {
   "cell_type": "code",
   "execution_count": 33,
   "metadata": {
    "collapsed": false
   },
   "outputs": [
    {
     "data": {
      "text/plain": [
       "2"
      ]
     },
     "execution_count": 33,
     "metadata": {},
     "output_type": "execute_result"
    }
   ],
   "source": [
    "a[1]"
   ]
  },
  {
   "cell_type": "code",
   "execution_count": 38,
   "metadata": {
    "collapsed": false
   },
   "outputs": [],
   "source": [
    "data_test = fpdata[1]"
   ]
  },
  {
   "cell_type": "code",
   "execution_count": 40,
   "metadata": {
    "collapsed": true
   },
   "outputs": [],
   "source": [
    "meta = helpy.load_meta(prefix)"
   ]
  },
  {
   "cell_type": "code",
   "execution_count": 41,
   "metadata": {
    "collapsed": true
   },
   "outputs": [],
   "source": [
    "x0, y0, R = meta.get('boundary')"
   ]
  },
  {
   "cell_type": "code",
   "execution_count": 43,
   "metadata": {
    "collapsed": false
   },
   "outputs": [],
   "source": [
    "legal = data_filter(data_test, x0, y0, 200, 250)"
   ]
  },
  {
   "cell_type": "code",
   "execution_count": 44,
   "metadata": {
    "collapsed": false
   },
   "outputs": [
    {
     "data": {
      "text/plain": [
       "dtype({'names':['id','f','t','xy','x','y','o'], 'formats':['<u4','<u2','<i4',('<f4', (2,)),'<f4','<f4','<f4'], 'offsets':[0,4,6,10,10,14,18], 'itemsize':22})"
      ]
     },
     "execution_count": 44,
     "metadata": {},
     "output_type": "execute_result"
    }
   ],
   "source": [
    "data_test.dtype"
   ]
  },
  {
   "cell_type": "code",
   "execution_count": 48,
   "metadata": {
    "collapsed": false
   },
   "outputs": [
    {
     "data": {
      "text/plain": [
       "array([ 56,  58,  64,  67,  69,  74,  75,  87, 101, 107, 108, 119, 122,\n",
       "       137, 143, 149, 154, 162, 165, 172, 173, 177, 184, 188, 189, 190, 193], dtype=int32)"
      ]
     },
     "execution_count": 48,
     "metadata": {},
     "output_type": "execute_result"
    }
   ],
   "source": [
    "data_test[legal]['t']"
   ]
  },
  {
   "cell_type": "code",
   "execution_count": 46,
   "metadata": {
    "collapsed": false
   },
   "outputs": [
    {
     "data": {
      "text/plain": [
       "(array([ 56,  58,  64,  67,  69,  73,  75,  87, 101, 107, 108, 119, 122,\n",
       "        137, 142, 148, 154, 161, 165, 172, 173, 176, 184, 188, 189, 190, 193]),)"
      ]
     },
     "execution_count": 46,
     "metadata": {},
     "output_type": "execute_result"
    }
   ],
   "source": [
    "legal"
   ]
  },
  {
   "cell_type": "code",
   "execution_count": 62,
   "metadata": {
    "collapsed": false
   },
   "outputs": [
    {
     "ename": "TypeError",
     "evalue": "unhashable type: 'numpy.ndarray'",
     "output_type": "error",
     "traceback": [
      "\u001b[0;31m---------------------------------------------------------------------------\u001b[0m",
      "\u001b[0;31mTypeError\u001b[0m                                 Traceback (most recent call last)",
      "\u001b[0;32m<ipython-input-62-a1657c3f5698>\u001b[0m in \u001b[0;36m<module>\u001b[0;34m()\u001b[0m\n\u001b[0;32m----> 1\u001b[0;31m \u001b[0mv_legal\u001b[0m \u001b[0;34m=\u001b[0m \u001b[0mv\u001b[0m\u001b[0;34m[\u001b[0m\u001b[0mlegal\u001b[0m\u001b[0;34m]\u001b[0m\u001b[0;34m\u001b[0m\u001b[0m\n\u001b[0m",
      "\u001b[0;31mTypeError\u001b[0m: unhashable type: 'numpy.ndarray'"
     ]
    }
   ],
   "source": [
    "v_legal = v[legal]"
   ]
  },
  {
   "cell_type": "code",
   "execution_count": 52,
   "metadata": {
    "collapsed": false
   },
   "outputs": [
    {
     "ename": "ValueError",
     "evalue": "no field of name f",
     "output_type": "error",
     "traceback": [
      "\u001b[0;31m---------------------------------------------------------------------------\u001b[0m",
      "\u001b[0;31mValueError\u001b[0m                                Traceback (most recent call last)",
      "\u001b[0;32m<ipython-input-52-024365aec2f1>\u001b[0m in \u001b[0;36m<module>\u001b[0;34m()\u001b[0m\n\u001b[0;32m----> 1\u001b[0;31m \u001b[0mv_legal\u001b[0m\u001b[0;34m(\u001b[0m\u001b[0mnp\u001b[0m\u001b[0;34m.\u001b[0m\u001b[0mwhere\u001b[0m\u001b[0;34m(\u001b[0m\u001b[0mv_legal\u001b[0m\u001b[0;34m[\u001b[0m\u001b[0;34m'f'\u001b[0m\u001b[0;34m]\u001b[0m \u001b[0;34m==\u001b[0m \u001b[0;36m1\u001b[0m\u001b[0;34m)\u001b[0m\u001b[0;34m)\u001b[0m\u001b[0;34m\u001b[0m\u001b[0m\n\u001b[0m",
      "\u001b[0;31mValueError\u001b[0m: no field of name f"
     ]
    }
   ],
   "source": [
    "v_legal(np.where(v_legal['f'] == 1))"
   ]
  },
  {
   "cell_type": "code",
   "execution_count": 54,
   "metadata": {
    "collapsed": false
   },
   "outputs": [
    {
     "data": {
      "text/plain": [
       "<module 'velocity' from '/Users/zhejun/Document/Research Code/track/velocity.pyc'>"
      ]
     },
     "execution_count": 54,
     "metadata": {},
     "output_type": "execute_result"
    }
   ],
   "source": [
    "reload(helpy)\n",
    "reload(velocity)"
   ]
  },
  {
   "cell_type": "code",
   "execution_count": 68,
   "metadata": {
    "collapsed": false
   },
   "outputs": [],
   "source": [
    "v_legal = vs[legal[0][1]]"
   ]
  },
  {
   "cell_type": "code",
   "execution_count": 69,
   "metadata": {
    "collapsed": false
   },
   "outputs": [
    {
     "ename": "TypeError",
     "evalue": "'builtin_function_or_method' object has no attribute '__getitem__'",
     "output_type": "error",
     "traceback": [
      "\u001b[0;31m---------------------------------------------------------------------------\u001b[0m",
      "\u001b[0;31mTypeError\u001b[0m                                 Traceback (most recent call last)",
      "\u001b[0;32m<ipython-input-69-5824bc457701>\u001b[0m in \u001b[0;36m<module>\u001b[0;34m()\u001b[0m\n\u001b[0;32m----> 1\u001b[0;31m \u001b[0mv_legal\u001b[0m\u001b[0;34m[\u001b[0m\u001b[0mnp\u001b[0m\u001b[0;34m.\u001b[0m\u001b[0mwhere\u001b[0m\u001b[0;34m[\u001b[0m\u001b[0mv_legal\u001b[0m\u001b[0;34m[\u001b[0m\u001b[0;34m'f'\u001b[0m\u001b[0;34m]\u001b[0m \u001b[0;34m==\u001b[0m \u001b[0;36m2\u001b[0m\u001b[0;34m]\u001b[0m\u001b[0;34m]\u001b[0m\u001b[0;34m\u001b[0m\u001b[0m\n\u001b[0m",
      "\u001b[0;31mTypeError\u001b[0m: 'builtin_function_or_method' object has no attribute '__getitem__'"
     ]
    }
   ],
   "source": [
    "v_legal[np.where[v_legal['f'] == 2]]"
   ]
  },
  {
   "cell_type": "code",
   "execution_count": 71,
   "metadata": {
    "collapsed": false
   },
   "outputs": [
    {
     "data": {
      "text/plain": [
       "array([False, False,  True, ..., False, False, False], dtype=bool)"
      ]
     },
     "execution_count": 71,
     "metadata": {},
     "output_type": "execute_result"
    }
   ],
   "source": [
    "v_legal['f'] == 2"
   ]
  },
  {
   "cell_type": "code",
   "execution_count": 73,
   "metadata": {
    "collapsed": false
   },
   "outputs": [],
   "source": [
    "ts = helpy.load_framesets(vs)"
   ]
  },
  {
   "cell_type": "code",
   "execution_count": 77,
   "metadata": {
    "collapsed": false
   },
   "outputs": [
    {
     "data": {
      "text/plain": [
       "236"
      ]
     },
     "execution_count": 77,
     "metadata": {},
     "output_type": "execute_result"
    }
   ],
   "source": [
    "len(ts[9998])"
   ]
  },
  {
   "cell_type": "code",
   "execution_count": 79,
   "metadata": {
    "collapsed": false
   },
   "outputs": [
    {
     "data": {
      "text/plain": [
       "dtype({'names':['id','f','t','xy','x','y','o'], 'formats':['<u4','<u2','<i4',('<f4', (2,)),'<f4','<f4','<f4'], 'offsets':[0,4,6,10,10,14,18], 'itemsize':22})"
      ]
     },
     "execution_count": 79,
     "metadata": {},
     "output_type": "execute_result"
    }
   ],
   "source": [
    "tracksets[2].dtype"
   ]
  },
  {
   "cell_type": "code",
   "execution_count": 80,
   "metadata": {
    "collapsed": false
   },
   "outputs": [
    {
     "data": {
      "text/plain": [
       "9999"
      ]
     },
     "execution_count": 80,
     "metadata": {},
     "output_type": "execute_result"
    }
   ],
   "source": [
    "len(tracksets[2])"
   ]
  },
  {
   "cell_type": "code",
   "execution_count": 81,
   "metadata": {
    "collapsed": false
   },
   "outputs": [
    {
     "data": {
      "text/plain": [
       "9999"
      ]
     },
     "execution_count": 81,
     "metadata": {},
     "output_type": "execute_result"
    }
   ],
   "source": [
    "len(vs[2])"
   ]
  },
  {
   "cell_type": "code",
   "execution_count": 84,
   "metadata": {
    "collapsed": false
   },
   "outputs": [
    {
     "ename": "TypeError",
     "evalue": "'builtin_function_or_method' object has no attribute '__getitem__'",
     "output_type": "error",
     "traceback": [
      "\u001b[0;31m---------------------------------------------------------------------------\u001b[0m",
      "\u001b[0;31mTypeError\u001b[0m                                 Traceback (most recent call last)",
      "\u001b[0;32m<ipython-input-84-baf359d274bb>\u001b[0m in \u001b[0;36m<module>\u001b[0;34m()\u001b[0m\n\u001b[0;32m----> 1\u001b[0;31m \u001b[0mvs\u001b[0m\u001b[0;34m[\u001b[0m\u001b[0;36m2\u001b[0m\u001b[0;34m]\u001b[0m\u001b[0;34m[\u001b[0m\u001b[0mnp\u001b[0m\u001b[0;34m.\u001b[0m\u001b[0mwhere\u001b[0m\u001b[0;34m[\u001b[0m\u001b[0mvs\u001b[0m\u001b[0;34m[\u001b[0m\u001b[0;36m2\u001b[0m\u001b[0;34m]\u001b[0m\u001b[0;34m[\u001b[0m\u001b[0;34m'x'\u001b[0m\u001b[0;34m]\u001b[0m \u001b[0;32mis\u001b[0m \u001b[0mnp\u001b[0m\u001b[0;34m.\u001b[0m\u001b[0mnan\u001b[0m\u001b[0;34m]\u001b[0m\u001b[0;34m]\u001b[0m\u001b[0;34m\u001b[0m\u001b[0m\n\u001b[0m",
      "\u001b[0;31mTypeError\u001b[0m: 'builtin_function_or_method' object has no attribute '__getitem__'"
     ]
    }
   ],
   "source": [
    "vs[2][np.where[vs[2]['x'] is np.nan]]"
   ]
  },
  {
   "cell_type": "code",
   "execution_count": 86,
   "metadata": {
    "collapsed": false
   },
   "outputs": [
    {
     "data": {
      "text/plain": [
       "dtype({'names':['o','v','xy','x','y','par','nt','perp','eta','etax','etay','etapar','f'], 'formats':['<f4','<f4',('<f4', (2,)),'<f4','<f4','<f4',('<f4', (2,)),'<f4','<f4','<f4','<f4','<f4','<u2'], 'offsets':[0,4,8,8,12,16,16,20,24,28,32,36,40], 'itemsize':42})"
      ]
     },
     "execution_count": 86,
     "metadata": {},
     "output_type": "execute_result"
    }
   ],
   "source": [
    "vs[2].dtype"
   ]
  },
  {
   "cell_type": "code",
   "execution_count": 156,
   "metadata": {
    "collapsed": false
   },
   "outputs": [],
   "source": [
    "test_data = fpdata[9998]"
   ]
  },
  {
   "cell_type": "code",
   "execution_count": 157,
   "metadata": {
    "collapsed": true
   },
   "outputs": [],
   "source": [
    "legal = data_filter(test_data, x0, y0, R - 36, R)"
   ]
  },
  {
   "cell_type": "code",
   "execution_count": 161,
   "metadata": {
    "collapsed": false
   },
   "outputs": [],
   "source": [
    "xy = test_data[legal]"
   ]
  },
  {
   "cell_type": "code",
   "execution_count": 162,
   "metadata": {
    "collapsed": false
   },
   "outputs": [
    {
     "data": {
      "text/plain": [
       "array([], \n",
       "      dtype={'names':['id','f','t','xy','x','y','o'], 'formats':['<u4','<u2','<i4',('<f4', (2,)),'<f4','<f4','<f4'], 'offsets':[0,4,6,10,10,14,18], 'itemsize':22})"
      ]
     },
     "execution_count": 162,
     "metadata": {},
     "output_type": "execute_result"
    }
   ],
   "source": [
    "xy"
   ]
  },
  {
   "cell_type": "code",
   "execution_count": 160,
   "metadata": {
    "collapsed": false
   },
   "outputs": [
    {
     "data": {
      "text/plain": [
       "array([], shape=(0, 2), dtype=float32)"
      ]
     },
     "execution_count": 160,
     "metadata": {},
     "output_type": "execute_result"
    }
   ],
   "source": [
    "xy"
   ]
  },
  {
   "cell_type": "code",
   "execution_count": 94,
   "metadata": {
    "collapsed": true
   },
   "outputs": [],
   "source": [
    "import matplotlib.pyplot as plt"
   ]
  },
  {
   "cell_type": "code",
   "execution_count": 111,
   "metadata": {
    "collapsed": false
   },
   "outputs": [
    {
     "data": {
      "text/plain": [
       "<matplotlib.collections.PathCollection at 0x133fe0f50>"
      ]
     },
     "execution_count": 111,
     "metadata": {},
     "output_type": "execute_result"
    }
   ],
   "source": [
    "plt.scatter(np.cos(angle), np.sin(angle))"
   ]
  },
  {
   "cell_type": "code",
   "execution_count": 120,
   "metadata": {
    "collapsed": false
   },
   "outputs": [
    {
     "data": {
      "text/plain": [
       "<matplotlib.collections.PathCollection at 0x128a7ae50>"
      ]
     },
     "execution_count": 120,
     "metadata": {},
     "output_type": "execute_result"
    }
   ],
   "source": [
    "plt.scatter(xy[:,0], xy[:,1])"
   ]
  },
  {
   "cell_type": "code",
   "execution_count": 122,
   "metadata": {
    "collapsed": false
   },
   "outputs": [
    {
     "ename": "AttributeError",
     "evalue": "'module' object has no attribute 'arctan2'",
     "output_type": "error",
     "traceback": [
      "\u001b[0;31m---------------------------------------------------------------------------\u001b[0m",
      "\u001b[0;31mAttributeError\u001b[0m                            Traceback (most recent call last)",
      "\u001b[0;32m<ipython-input-122-12ca3354823e>\u001b[0m in \u001b[0;36m<module>\u001b[0;34m()\u001b[0m\n\u001b[0;32m----> 1\u001b[0;31m \u001b[0mplt\u001b[0m\u001b[0;34m.\u001b[0m\u001b[0marctan2\u001b[0m\u001b[0;34m(\u001b[0m\u001b[0mxy\u001b[0m\u001b[0;34m[\u001b[0m\u001b[0;34m:\u001b[0m\u001b[0;34m,\u001b[0m\u001b[0;36m1\u001b[0m\u001b[0;34m]\u001b[0m\u001b[0;34m,\u001b[0m \u001b[0mxy\u001b[0m\u001b[0;34m[\u001b[0m\u001b[0;34m:\u001b[0m\u001b[0;34m,\u001b[0m\u001b[0;36m0\u001b[0m\u001b[0;34m]\u001b[0m\u001b[0;34m)\u001b[0m\u001b[0;34m\u001b[0m\u001b[0m\n\u001b[0m",
      "\u001b[0;31mAttributeError\u001b[0m: 'module' object has no attribute 'arctan2'"
     ]
    }
   ],
   "source": [
    "plt.arctan2(xy[:,1], xy[:,0])"
   ]
  },
  {
   "cell_type": "code",
   "execution_count": 135,
   "metadata": {
    "collapsed": false
   },
   "outputs": [],
   "source": [
    "orient = np.arctan2(*xy[:, ::-1].T)"
   ]
  },
  {
   "cell_type": "code",
   "execution_count": 142,
   "metadata": {
    "collapsed": false
   },
   "outputs": [
    {
     "data": {
      "text/plain": [
       "array([[ 502.56799316,    1.56880653],\n",
       "       [ 461.05200195,    1.56862736],\n",
       "       [ 545.67999268,    1.56896377],\n",
       "       [ 585.37701416,    1.56908798],\n",
       "       [ 420.7829895 ,    1.56841981],\n",
       "       [ 624.90600586,    1.56919611],\n",
       "       [ 382.55599976,    1.56818235],\n",
       "       [ 664.14202881,    1.56929064],\n",
       "       [ 344.20098877,    1.567891  ],\n",
       "       [ 510.22799683,    1.56883645],\n",
       "       [ 308.34500122,    1.56755316],\n",
       "       [ 470.88299561,    1.56867266],\n",
       "       [ 551.52398682,    1.5689832 ],\n",
       "       [ 704.67700195,    1.56937718],\n",
       "       [ 431.50799561,    1.56847882],\n",
       "       [ 591.37597656,    1.56910539],\n",
       "       [ 391.95001221,    1.56824493],\n",
       "       [ 628.71002197,    1.56920576],\n",
       "       [ 269.94500732,    1.56709194],\n",
       "       [ 740.39697266,    1.56944573],\n",
       "       [ 353.79901123,    1.56796992],\n",
       "       [ 667.00201416,    1.56929708],\n",
       "       [ 502.66000366,    1.56880689],\n",
       "       [ 238.41700745,    1.56660199],\n",
       "       [ 318.18499756,    1.56765354],\n",
       "       [ 543.02099609,    1.56895483],\n",
       "       [ 775.65698242,    1.56950712],\n",
       "       [ 461.76800537,    1.5686307 ],\n",
       "       [ 582.87097168,    1.56908071],\n",
       "       [ 419.76501465,    1.56841409],\n",
       "       [ 703.03198242,    1.56937397],\n",
       "       [ 620.70697021,    1.56918526],\n",
       "       [ 283.27700806,    1.56726623],\n",
       "       [ 374.35198975,    1.56812501],\n",
       "       [ 808.55999756,    1.56955957],\n",
       "       [ 205.9750061 ,    1.56594145],\n",
       "       [ 739.18701172,    1.56944346],\n",
       "       [ 659.815979  ,    1.56928074],\n",
       "       [ 336.67199707,    1.56782603],\n",
       "       [ 249.69799805,    1.56679153],\n",
       "       [ 696.44500732,    1.56936049],\n",
       "       [ 770.66802979,    1.56949878],\n",
       "       [ 452.35900879,    1.56858575],\n",
       "       [ 174.58999634,    1.56506872],\n",
       "       [ 837.67901611,    1.56960261],\n",
       "       [ 409.95700073,    1.56835711],\n",
       "       [ 300.41799927,    1.56746769],\n",
       "       [ 218.81700134,    1.56622636],\n",
       "       [ 731.72802734,    1.56942976],\n",
       "       [ 803.21899414,    1.56955135],\n",
       "       [ 146.04800415,    1.56394935],\n",
       "       [ 266.52301025,    1.56704438],\n",
       "       [ 867.90301514,    1.56964409],\n",
       "       [ 335.98300171,    1.56781995],\n",
       "       [ 188.77400208,    1.56549907],\n",
       "       [ 759.31896973,    1.56947935],\n",
       "       [ 831.1920166 ,    1.56959319],\n",
       "       [ 302.15301514,    1.56748676],\n",
       "       [ 381.45300293,    1.56817472],\n",
       "       [ 121.16000366,    1.56254292],\n",
       "       [ 892.87200928,    1.5696764 ],\n",
       "       [ 794.45898438,    1.56953764],\n",
       "       [ 256.72299194,    1.56690109],\n",
       "       [ 162.04899597,    1.56462538],\n",
       "       [ 856.07098389,    1.56962824],\n",
       "       [  99.12599945,    1.56070852],\n",
       "       [ 913.98199463,    1.56970227],\n",
       "       [ 821.40698242,    1.56957889],\n",
       "       [ 139.49699402,    1.56362784],\n",
       "       [ 876.5960083 ,    1.56965554],\n",
       "       [  78.97299957,    1.55813444],\n",
       "       [ 933.71899414,    1.56972539],\n",
       "       [ 841.24401855,    1.56960762],\n",
       "       [ 118.81199646,    1.56237984],\n",
       "       [ 898.21801758,    1.56968296],\n",
       "       [ 862.10302734,    1.56963634],\n",
       "       [  62.84600067,    1.55488575],\n",
       "       [ 951.17901611,    1.56974494],\n",
       "       [ 101.27799988,    1.56092286],\n",
       "       [ 915.79498291,    1.56970441],\n",
       "       [ 879.6550293 ,    1.56965947],\n",
       "       [  47.99200058,    1.54996252],\n",
       "       [ 964.09698486,    1.56975913],\n",
       "       [  85.98100281,    1.55916643],\n",
       "       [ 928.625     ,    1.56971943],\n",
       "       [ 845.31201172,    1.56961334],\n",
       "       [ 893.86102295,    1.56967759],\n",
       "       [  36.68999863,    1.54354763],\n",
       "       [ 975.49102783,    1.56977117],\n",
       "       [  77.18499756,    1.55784118],\n",
       "       [ 119.90899658,    1.56245685],\n",
       "       [ 938.63500977,    1.569731  ],\n",
       "       [ 858.68597412,    1.56963181],\n",
       "       [ 901.46502686,    1.56968701],\n",
       "       [  30.66200066,    1.53819418],\n",
       "       [ 982.63800049,    1.56977868],\n",
       "       [  67.89299774,    1.5560683 ],\n",
       "       [ 110.7440033 ,    1.56176674],\n",
       "       [ 945.32000732,    1.56973851],\n",
       "       [ 866.96801758,    1.5696429 ],\n",
       "       [ 905.01098633,    1.56969142],\n",
       "       [  26.21100044,    1.53266287],\n",
       "       [ 986.02301025,    1.56978214],\n",
       "       [ 445.2130127 ,    1.56855023],\n",
       "       [ 654.48797607,    1.56926847],\n",
       "       [  66.16000366,    1.55568266],\n",
       "       [ 947.97497559,    1.56974149],\n",
       "       [ 107.60700226,    1.56150353],\n",
       "       [ 823.7199707 ,    1.56958234],\n",
       "       [ 869.10900879,    1.56964576],\n",
       "       [ 908.63500977,    1.56969583],\n",
       "       [  26.5340004 ,    1.53312671],\n",
       "       [ 986.25402832,    1.56978238],\n",
       "       [  67.55500031,    1.55599463],\n",
       "       [ 945.70397949,    1.56973886],\n",
       "       [ 348.35400391,    1.56792569],\n",
       "       [ 108.59200287,    1.56158781],\n",
       "       [ 866.12200928,    1.56964171],\n",
       "       [ 905.54797363,    1.56969202],\n",
       "       [  28.30999947,    1.53548777],\n",
       "       [ 817.80499268,    1.56957352],\n",
       "       [ 983.5289917 ,    1.56977963],\n",
       "       [  71.66000366,    1.55684245],\n",
       "       [ 113.72699738,    1.56200361],\n",
       "       [ 942.37200928,    1.56973517],\n",
       "       [ 860.39599609,    1.56963408],\n",
       "       [ 898.82897949,    1.56968379],\n",
       "       [  34.56999969,    1.54187763],\n",
       "       [ 977.86102295,    1.56977367],\n",
       "       [  78.40000153,    1.55804193],\n",
       "       [ 124.81300354,    1.56278455],\n",
       "       [ 933.97802734,    1.56972563],\n",
       "       [ 843.44500732,    1.56961071],\n",
       "       [ 887.67700195,    1.56966984],\n",
       "       [  44.63399887,    1.54839563],\n",
       "       [ 967.5369873 ,    1.56976283],\n",
       "       [ 140.30999756,    1.56366932],\n",
       "       [  96.36299896,    1.56041932],\n",
       "       [ 922.50097656,    1.56971228],\n",
       "       [ 833.61602783,    1.56959677],\n",
       "       [ 874.30297852,    1.56965256],\n",
       "       [ 955.27502441,    1.56974947],\n",
       "       [  59.63199997,    1.55402839],\n",
       "       [ 906.94500732,    1.56969368],\n",
       "       [ 109.35199738,    1.56165183],\n",
       "       [ 153.41799927,    1.56427824],\n",
       "       [ 814.75      ,    1.56956899],\n",
       "       [ 857.5960083 ,    1.56963027],\n",
       "       [ 939.72900391,    1.56973219],\n",
       "       [  73.60600281,    1.55721128],\n",
       "       [ 889.06500244,    1.56967151],\n",
       "       [ 128.3730011 ,    1.56300664],\n",
       "       [ 178.40299988,    1.56519115],\n",
       "       [ 785.53399658,    1.56952333],\n",
       "       [ 836.69500732,    1.56960118],\n",
       "       [ 238.28900146,    1.56659973],\n",
       "       [ 921.0869751 ,    1.56971061],\n",
       "       [  94.22100067,    1.56018341],\n",
       "       [ 867.88897705,    1.56964409],\n",
       "       [ 151.09100342,    1.56417787],\n",
       "       [ 758.4710083 ,    1.56947792],\n",
       "       [ 203.1230011 ,    1.56587327],\n",
       "       [ 809.48400879,    1.569561  ],\n",
       "       [ 271.48999023,    1.56711292],\n",
       "       [ 900.84997559,    1.56968629],\n",
       "       [ 114.98000336,    1.56209934],\n",
       "       [ 727.81799316,    1.56942236],\n",
       "       [ 842.14801025,    1.56960893],\n",
       "       [ 176.16400146,    1.56511986],\n",
       "       [ 784.75799561,    1.56952202],\n",
       "       [ 237.75700378,    1.56659043],\n",
       "       [ 301.64401245,    1.56748116],\n",
       "       [ 695.06402588,    1.56935763],\n",
       "       [ 874.35198975,    1.56965268],\n",
       "       [ 138.67100525,    1.56358516],\n",
       "       [ 816.44000244,    1.5695715 ],\n",
       "       [ 336.19900513,    1.56782186],\n",
       "       [ 202.60699463,    1.56586075],\n",
       "       [ 752.41400146,    1.56946731],\n",
       "       [ 659.58398438,    1.56928027],\n",
       "       [ 266.97900391,    1.5670507 ],\n",
       "       [ 377.48699951,    1.56814718],\n",
       "       [ 849.95898438,    1.56961977],\n",
       "       [ 168.43200684,    1.56485927],\n",
       "       [ 719.86401367,    1.56940722],\n",
       "       [ 620.8170166 ,    1.5691855 ],\n",
       "       [ 785.96697998,    1.56952405],\n",
       "       [ 414.75601196,    1.56838524],\n",
       "       [ 304.63598633,    1.5675137 ],\n",
       "       [ 234.0059967 ,    1.56652296],\n",
       "       [ 582.14898682,    1.56907856],\n",
       "       [ 541.47900391,    1.56894958],\n",
       "       [ 456.54000854,    1.5686059 ],\n",
       "       [ 687.34100342,    1.56934142],\n",
       "       [ 499.9119873 ,    1.56879592],\n",
       "       [ 820.44702148,    1.56957746],\n",
       "       [ 341.27801514,    1.56786621],\n",
       "       [ 753.13800049,    1.5694685 ],\n",
       "       [ 195.72200012,    1.56568706],\n",
       "       [ 266.0920105 ,    1.5670383 ],\n",
       "       [ 648.67297363,    1.56925476],\n",
       "       [ 377.75900269,    1.56814909],\n",
       "       [ 718.76599121,    1.56940508],\n",
       "       [ 789.77398682,    1.56953013],\n",
       "       [ 299.64199829,    1.56745899],\n",
       "       [ 612.43200684,    1.56916344],\n",
       "       [ 416.95001221,    1.568398  ],\n",
       "       [ 226.94200134,    1.56638992],\n",
       "       [ 532.98699951,    1.56892014],\n",
       "       [ 572.89001465,    1.56905079],\n",
       "       [ 455.98999023,    1.56860328],\n",
       "       [ 496.42498779,    1.56878197],\n",
       "       [ 684.684021  ,    1.56933582],\n",
       "       [ 336.74398804,    1.56782675],\n",
       "       [ 754.29400635,    1.56947064],\n",
       "       [ 258.94400024,    1.56693447],\n",
       "       [ 647.32299805,    1.56925154],\n",
       "       [ 375.16500854,    1.56813085],\n",
       "       [ 413.48098755,    1.56837785],\n",
       "       [ 609.17498779,    1.56915474],\n",
       "       [ 294.61099243,    1.56740201],\n",
       "       [ 720.2210083 ,    1.56940782],\n",
       "       [ 453.44100952,    1.568591  ],\n",
       "       [ 570.54797363,    1.56904364],\n",
       "       [ 531.95898438,    1.56891644],\n",
       "       [ 491.85900879,    1.56876326],\n",
       "       [ 330.66699219,    1.56777215],\n",
       "       [ 683.91601562,    1.56933415],\n",
       "       [ 368.10400391,    1.56807971],\n",
       "       [ 645.63000488,    1.56924748],\n",
       "       [ 407.42700195,    1.56834185],\n",
       "       [ 605.47998047,    1.56914473],\n",
       "       [ 448.5539856 ,    1.56856692],\n",
       "       [ 565.28302002,    1.5690273 ],\n",
       "       [ 487.0539856 ,    1.56874311],\n",
       "       [ 525.80297852,    1.56889451]], dtype=float32)"
      ]
     },
     "execution_count": 142,
     "metadata": {},
     "output_type": "execute_result"
    }
   ],
   "source": [
    "xy[:, ::-1]"
   ]
  },
  {
   "cell_type": "code",
   "execution_count": 169,
   "metadata": {
    "collapsed": true
   },
   "outputs": [],
   "source": [
    "test = fpdata[9998]\n",
    "legal = data_filter(test, x0, y0, R - 36, R)\n",
    "xy = test[legal]['xy']"
   ]
  },
  {
   "cell_type": "code",
   "execution_count": 171,
   "metadata": {
    "collapsed": false
   },
   "outputs": [
    {
     "data": {
      "text/plain": [
       "<matplotlib.collections.PathCollection at 0x11c7d8350>"
      ]
     },
     "execution_count": 171,
     "metadata": {},
     "output_type": "execute_result"
    }
   ],
   "source": [
    "plt.scatter(xy[:,0],xy[:,1])"
   ]
  },
  {
   "cell_type": "code",
   "execution_count": 172,
   "metadata": {
    "collapsed": false
   },
   "outputs": [
    {
     "data": {
      "image/png": "[encoded data removed]",
      "text/plain": [
       "<matplotlib.figure.Figure at 0x134333b90>"
      ]
     },
     "metadata": {},
     "output_type": "display_data"
    }
   ],
   "source": [
    "plt.show()"
   ]
  },
  {
   "cell_type": "code",
   "execution_count": 177,
   "metadata": {
    "collapsed": true
   },
   "outputs": [],
   "source": [
    "x = xy[:,0]"
   ]
  },
  {
   "cell_type": "code",
   "execution_count": 178,
   "metadata": {
    "collapsed": true
   },
   "outputs": [],
   "source": [
    "y = xy[:,1]"
   ]
  },
  {
   "cell_type": "code",
   "execution_count": 182,
   "metadata": {
    "collapsed": false
   },
   "outputs": [],
   "source": [
    "position = xy - [x0,y0]"
   ]
  },
  {
   "cell_type": "code",
   "execution_count": 197,
   "metadata": {
    "collapsed": false
   },
   "outputs": [
    {
     "data": {
      "image/png": "[encoded data removed]",
      "text/plain": [
       "<matplotlib.figure.Figure at 0x11c7a0510>"
      ]
     },
     "metadata": {},
     "output_type": "display_data"
    }
   ],
   "source": [
    "plt.scatter(yt, xt)\n",
    "plt.show()"
   ]
  },
  {
   "cell_type": "code",
   "execution_count": 185,
   "metadata": {
    "collapsed": true
   },
   "outputs": [],
   "source": [
    "xt = x - x0"
   ]
  },
  {
   "cell_type": "code",
   "execution_count": 186,
   "metadata": {
    "collapsed": true
   },
   "outputs": [],
   "source": [
    "yt = y - y0"
   ]
  },
  {
   "cell_type": "code",
   "execution_count": 198,
   "metadata": {
    "collapsed": false
   },
   "outputs": [],
   "source": [
    "angles = np.arctan2(*[yt, xt])"
   ]
  },
  {
   "cell_type": "code",
   "execution_count": 195,
   "metadata": {
    "collapsed": false
   },
   "outputs": [
    {
     "ename": "SyntaxError",
     "evalue": "invalid syntax (<ipython-input-195-ae434f2e3b1e>, line 1)",
     "output_type": "error",
     "traceback": [
      "\u001b[0;36m  File \u001b[0;32m\"<ipython-input-195-ae434f2e3b1e>\"\u001b[0;36m, line \u001b[0;32m1\u001b[0m\n\u001b[0;31m    yt xt\u001b[0m\n\u001b[0m        ^\u001b[0m\n\u001b[0;31mSyntaxError\u001b[0m\u001b[0;31m:\u001b[0m invalid syntax\n"
     ]
    }
   ],
   "source": []
  },
  {
   "cell_type": "code",
   "execution_count": 206,
   "metadata": {
    "collapsed": false
   },
   "outputs": [
    {
     "data": {
      "image/png": "[encoded data removed]",
      "text/plain": [
       "<matplotlib.figure.Figure at 0x11c7d8f10>"
      ]
     },
     "metadata": {},
     "output_type": "display_data"
    }
   ],
   "source": [
    "plt.scatter(np.cos(aa), np.sin(aa))\n",
    "plt.show()"
   ]
  },
  {
   "cell_type": "code",
   "execution_count": 205,
   "metadata": {
    "collapsed": false
   },
   "outputs": [],
   "source": [
    "aa = (angles - np.pi/2)%(2 * np.pi)"
   ]
  },
  {
   "cell_type": "code",
   "execution_count": 201,
   "metadata": {
    "collapsed": false
   },
   "outputs": [
    {
     "data": {
      "text/plain": [
       "4"
      ]
     },
     "execution_count": 201,
     "metadata": {},
     "output_type": "execute_result"
    }
   ],
   "source": [
    "-1%5"
   ]
  },
  {
   "cell_type": "code",
   "execution_count": 204,
   "metadata": {
    "collapsed": false
   },
   "outputs": [
    {
     "data": {
      "text/plain": [
       "4.71238898038469"
      ]
     },
     "execution_count": 204,
     "metadata": {},
     "output_type": "execute_result"
    }
   ],
   "source": [
    "(0 - np.pi/2)%(np.pi * 2)"
   ]
  },
  {
   "cell_type": "code",
   "execution_count": 209,
   "metadata": {
    "collapsed": false
   },
   "outputs": [
    {
     "data": {
      "text/plain": [
       "90.664497"
      ]
     },
     "execution_count": 209,
     "metadata": {},
     "output_type": "execute_result"
    }
   ],
   "source": [
    "np.degrees(aa[0])"
   ]
  },
  {
   "cell_type": "code",
   "execution_count": 212,
   "metadata": {
    "collapsed": false
   },
   "outputs": [
    {
     "data": {
      "text/plain": [
       "-179.33548"
      ]
     },
     "execution_count": 212,
     "metadata": {},
     "output_type": "execute_result"
    }
   ],
   "source": [
    "np.degrees(np.arctan2(yt[0], xt[0]))"
   ]
  },
  {
   "cell_type": "code",
   "execution_count": 213,
   "metadata": {
    "collapsed": false
   },
   "outputs": [
    {
     "data": {
      "text/plain": [
       "array([-3.12999487, -3.04352021,  3.06352019,  2.98065591, -2.95884919,\n",
       "        2.89658952, -2.8781774 ,  2.81102014, -2.79432321, -2.71474504,\n",
       "        2.72144866, -2.62688613,  2.63557529, -2.54863381,  2.55053258,\n",
       "        2.46576786, -2.46491122, -2.37854815,  2.38315177, -2.29605794,\n",
       "        2.29564714, -2.21289682,  2.21177578, -2.13054466,  2.1303165 ,\n",
       "       -2.04803944,  2.04584694, -1.96195853,  1.95799911, -1.87830794,\n",
       "        1.87885165, -1.7929225 ,  1.79222608, -1.7107203 ,  1.70968807,\n",
       "       -1.62875581,  1.62670839, -1.54548085,  1.54197776, -1.46745765,\n",
       "        1.46023476, -1.38440585,  1.37597632, -1.2975136 ,  1.29569328,\n",
       "        1.21231461, -1.21057582,  1.12893236, -1.12760162,  1.04825425,\n",
       "       -1.04389167,  0.96547699, -0.95702076,  0.87967414, -0.87937099,\n",
       "        0.80024636, -0.79051775,  0.71292406, -0.70879418,  0.63043022,\n",
       "       -0.62679183,  0.54220128, -0.54627359, -0.46149957,  0.45868874,\n",
       "       -0.38000089,  0.37653407, -0.29686624,  0.29152569, -0.21223691,\n",
       "        0.20498049, -0.12496991,  0.11965038, -0.04414506,  0.03683949], dtype=float32)"
      ]
     },
     "execution_count": 213,
     "metadata": {},
     "output_type": "execute_result"
    }
   ],
   "source": [
    "angles"
   ]
  },
  {
   "cell_type": "code",
   "execution_count": 214,
   "metadata": {
    "collapsed": false
   },
   "outputs": [
    {
     "ename": "ValueError",
     "evalue": "no field of name xyo",
     "output_type": "error",
     "traceback": [
      "\u001b[0;31m---------------------------------------------------------------------------\u001b[0m",
      "\u001b[0;31mValueError\u001b[0m                                Traceback (most recent call last)",
      "\u001b[0;32m<ipython-input-214-93bc26c1c92b>\u001b[0m in \u001b[0;36m<module>\u001b[0;34m()\u001b[0m\n\u001b[0;32m----> 1\u001b[0;31m \u001b[0mtracksets\u001b[0m\u001b[0;34m[\u001b[0m\u001b[0;36m0\u001b[0m\u001b[0;34m]\u001b[0m\u001b[0;34m[\u001b[0m\u001b[0;34m'xyo'\u001b[0m\u001b[0;34m]\u001b[0m\u001b[0;34m\u001b[0m\u001b[0m\n\u001b[0m",
      "\u001b[0;31mValueError\u001b[0m: no field of name xyo"
     ]
    }
   ],
   "source": [
    "tracksets[0]['xyo']"
   ]
  },
  {
   "cell_type": "code",
   "execution_count": 281,
   "metadata": {
    "collapsed": true
   },
   "outputs": [],
   "source": [
    "xy = helpy.consecutive_fields_view(data,'xy')"
   ]
  },
  {
   "cell_type": "code",
   "execution_count": 289,
   "metadata": {
    "collapsed": false
   },
   "outputs": [
    {
     "data": {
      "text/plain": [
       "array([ 443.16299438,  577.88397217,  628.35498047, ...,  565.28302002,\n",
       "        487.0539856 ,  525.80297852], dtype=float32)"
      ]
     },
     "execution_count": 289,
     "metadata": {},
     "output_type": "execute_result"
    }
   ],
   "source": [
    "xy[:,]"
   ]
  },
  {
   "cell_type": "code",
   "execution_count": 284,
   "metadata": {
    "collapsed": false
   },
   "outputs": [
    {
     "data": {
      "text/plain": [
       "array([[  44.45899963,  443.16299438],\n",
       "       [  48.33200073,  577.88397217],\n",
       "       [  54.5359993 ,  628.35498047],\n",
       "       ..., \n",
       "       [ 990.64398193,  565.28302002],\n",
       "       [ 993.65802002,  487.0539856 ],\n",
       "       [ 993.99102783,  525.80297852]], dtype=float32)"
      ]
     },
     "execution_count": 284,
     "metadata": {},
     "output_type": "execute_result"
    }
   ],
   "source": [
    "xy"
   ]
  },
  {
   "cell_type": "code",
   "execution_count": null,
   "metadata": {
    "collapsed": true
   },
   "outputs": [],
   "source": []
  }
 ],
 "metadata": {
  "kernelspec": {
   "display_name": "Python 2",
   "language": "python",
   "name": "python2"
  },
  "language_info": {
   "codemirror_mode": {
    "name": "ipython",
    "version": 2
   },
   "file_extension": ".py",
   "mimetype": "text/x-python",
   "name": "python",
   "nbconvert_exporter": "python",
   "pygments_lexer": "ipython2",
   "version": "2.7.13"
  }
 },
 "nbformat": 4,
 "nbformat_minor": 2
}
