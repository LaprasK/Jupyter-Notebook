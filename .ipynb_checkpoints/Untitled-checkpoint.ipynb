{
 "cells": [
  {
   "cell_type": "code",
   "execution_count": 14,
   "metadata": {
    "collapsed": true
   },
   "outputs": [],
   "source": [
    "import helpy \n",
    "import correlation as cor \n",
    "import velocity\n",
    "import matplotlib.pyplot as plt\n",
    "import numpy as np"
   ]
  },
  {
   "cell_type": "code",
   "execution_count": 15,
   "metadata": {
    "collapsed": false
   },
   "outputs": [
    {
     "data": {
      "text/plain": [
       "array([[ -0.00000000e+000,  -2.68679546e+154,   2.17147104e-314],\n",
       "       [  2.24685701e-314,   0.00000000e+000,   4.17201348e-309]])"
      ]
     },
     "execution_count": 15,
     "metadata": {},
     "output_type": "execute_result"
    }
   ],
   "source": [
    "np.empty((2,3))"
   ]
  },
  {
   "cell_type": "code",
   "execution_count": 16,
   "metadata": {
    "collapsed": true
   },
   "outputs": [],
   "source": [
    "def data_filter(data, x0, y0, inner, outer):\n",
    "    x, y = data['x'], data['y']\n",
    "    position = [x - x0, y - y0]\n",
    "    distance = np.hypot(*position)\n",
    "    legal = np.where((distance > inner) & (distance < outer))\n",
    "    return data[legal]"
   ]
  },
  {
   "cell_type": "code",
   "execution_count": 24,
   "metadata": {
    "collapsed": true
   },
   "outputs": [],
   "source": [
    "prefix = '/Volumes/hopper/zhejun/Result_Backup/Result/0531/477/result'"
   ]
  },
  {
   "cell_type": "code",
   "execution_count": 25,
   "metadata": {
    "collapsed": true
   },
   "outputs": [],
   "source": [
    "pdata, cdata = helpy.load_data(prefix, 'position corner')"
   ]
  },
  {
   "cell_type": "code",
   "execution_count": 26,
   "metadata": {
    "collapsed": true
   },
   "outputs": [],
   "source": [
    "meta = helpy.load_meta('prefix')"
   ]
  },
  {
   "cell_type": "code",
   "execution_count": 27,
   "metadata": {
    "collapsed": false
   },
   "outputs": [
    {
     "name": "stdout",
     "output_type": "stream",
     "text": [
      "None\n"
     ]
    }
   ],
   "source": [
    "x0, y0, R = "
   ]
  },
  {
   "cell_type": "code",
   "execution_count": 28,
   "metadata": {
    "collapsed": false
   },
   "outputs": [
    {
     "data": {
      "text/plain": [
       "array([(0, 22.97599983215332, 482.5119934082031, 27, 0.52783203125, 168, 0L),\n",
       "       (0, 22.656999588012695, 525.010986328125, 28, 0.41796875, 148, 1L),\n",
       "       (0, 26.024999618530273, 565.0289916992188, 33, 0.3798828125, 157, 2L),\n",
       "       ...,\n",
       "       (998, 980.5180053710938, 446.9739990234375, 2038, 0.4599609375, 144, 479210L),\n",
       "       (998, 984.1640014648438, 487.302001953125, 2040, 0.51904296875, 120, 479211L),\n",
       "       (998, 984.2459716796875, 527.1240234375, 2041, 0.6591796875, 102, 479212L)], \n",
       "      dtype=[('f', '<u2'), ('x', '<f4'), ('y', '<f4'), ('lab', '<i4'), ('ecc', '<f2'), ('area', '<u2'), ('id', '<u4')])"
      ]
     },
     "execution_count": 28,
     "metadata": {},
     "output_type": "execute_result"
    }
   ],
   "source": [
    "pdata"
   ]
  },
  {
   "cell_type": "code",
   "execution_count": null,
   "metadata": {
    "collapsed": true
   },
   "outputs": [],
   "source": []
  }
 ],
 "metadata": {
  "anaconda-cloud": {},
  "kernelspec": {
   "display_name": "Python 2",
   "language": "python",
   "name": "python2"
  },
  "language_info": {
   "codemirror_mode": {
    "name": "ipython",
    "version": 2
   },
   "file_extension": ".py",
   "mimetype": "text/x-python",
   "name": "python",
   "nbconvert_exporter": "python",
   "pygments_lexer": "ipython2",
   "version": "2.7.13"
  }
 },
 "nbformat": 4,
 "nbformat_minor": 1
}
