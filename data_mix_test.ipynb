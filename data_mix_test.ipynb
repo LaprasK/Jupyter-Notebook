{
 "cells": [
  {
   "cell_type": "code",
   "execution_count": 1,
   "metadata": {
    "collapsed": true
   },
   "outputs": [],
   "source": [
    "import numpy as np"
   ]
  },
  {
   "cell_type": "code",
   "execution_count": 2,
   "metadata": {
    "collapsed": true
   },
   "outputs": [],
   "source": [
    "x_dtype = np.dtype?"
   ]
  },
  {
   "cell_type": "code",
   "execution_count": null,
   "metadata": {
    "collapsed": true
   },
   "outputs": [],
   "source": [
    "x_dtype = np.dtype"
   ]
  },
  {
   "cell_type": "code",
   "execution_count": 4,
   "metadata": {
    "collapsed": false
   },
   "outputs": [],
   "source": [
    "pos_dtype = np.dtype({'names': 'x y z'.split(), 'formats': ['f4'] * 3})"
   ]
  },
  {
   "cell_type": "code",
   "execution_count": 5,
   "metadata": {
    "collapsed": true
   },
   "outputs": [],
   "source": [
    "pos = np.empty((20,), pos_dtype)"
   ]
  },
  {
   "cell_type": "code",
   "execution_count": 6,
   "metadata": {
    "collapsed": false
   },
   "outputs": [
    {
     "data": {
      "text/plain": [
       "array([(0.0, 1.0842021724855044e-19, 1.6346088502084187e+30),\n",
       "       (-3.690248655058082e+19, 2.1019476964872256e-44, 0.0),\n",
       "       (0.0, 0.0, 0.0),\n",
       "       (1.401298464324817e-45, 1.94215710042045e+31, 2.749105052647403e+20),\n",
       "       (0.0006194923189468682, 7.185598589700907e+22, 4.360477962483706e+27),\n",
       "       (2.332855502167217e-18, 1.920461596769064e+31, 3.231399467707032e-18),\n",
       "       (4.118503454941802e-11, 2.3328445420241006e-18, 1.6677793691850506e+19),\n",
       "       (7.097552316265888e+22, 4.7880983208709686e+22, 2.8825913516525303e+32),\n",
       "       (4.4248196155169946e+30, 7.244197176252438e+22, 2.3086226940555177e-12),\n",
       "       (1.1495482003995554e+24, 3.095554490839592e-18, 7.269296702361316e-07),\n",
       "       (6.737964075576031e-10, 1.1541083644317496e-08, 11.262505531311035),\n",
       "       (11.513980865478516, 4.2436301583848035e-08, 2.6087829674281693e-09),\n",
       "       (4.218983562509493e-08, 2.305223069723472e-12, 1.8178881095373855e+31),\n",
       "       (1.8523599407626634e+28, 162.22708129882812, 194.20802307128906),\n",
       "       (1.14203464463003e-08, 1.8460637818407122e-07, 4.701341822510585e-05),\n",
       "       (1.8178688776515628e-07, 2.7605094601312885e-06, 720.8780517578125),\n",
       "       (2.6726681220440542e-18, 2.6301999949387766e+20, 0.0006194927264004946),\n",
       "       (2.5639868006521738e-09, 2.625236220410443e-06, 3130103431168.0),\n",
       "       (1.7341587010832882e-07, 1.0432407826499457e-08, 0.00017471678438596427),\n",
       "       (2.4694286047688565e-18, 1.2451756223014562e-24, 1.4234151579872557e-39)], \n",
       "      dtype=[('x', '<f4'), ('y', '<f4'), ('z', '<f4')])"
      ]
     },
     "execution_count": 6,
     "metadata": {},
     "output_type": "execute_result"
    }
   ],
   "source": [
    "vel_dtype"
   ]
  },
  {
   "cell_type": "code",
   "execution_count": 1,
   "metadata": {
    "collapsed": false
   },
   "outputs": [
    {
     "ename": "NameError",
     "evalue": "name 'tracksets' is not defined",
     "output_type": "error",
     "traceback": [
      "\u001b[0;31m---------------------------------------------------------------------------\u001b[0m",
      "\u001b[0;31mNameError\u001b[0m                                 Traceback (most recent call last)",
      "\u001b[0;32m<ipython-input-1-538728d1b206>\u001b[0m in \u001b[0;36m<module>\u001b[0;34m()\u001b[0m\n\u001b[0;32m----> 1\u001b[0;31m \u001b[0mtracksets\u001b[0m\u001b[0;34m[\u001b[0m\u001b[0;34m'x'\u001b[0m\u001b[0;34m]\u001b[0m \u001b[0;34m-\u001b[0m \u001b[0mx0\u001b[0m\u001b[0;34m\u001b[0m\u001b[0m\n\u001b[0m",
      "\u001b[0;31mNameError\u001b[0m: name 'tracksets' is not defined"
     ]
    }
   ],
   "source": [
    "tracksets[1['x'] - x0"
   ]
  },
  {
   "cell_type": "code",
   "execution_count": null,
   "metadata": {
    "collapsed": true
   },
   "outputs": [],
   "source": []
  }
 ],
 "metadata": {
  "kernelspec": {
   "display_name": "Python 2",
   "language": "python",
   "name": "python2"
  },
  "language_info": {
   "codemirror_mode": {
    "name": "ipython",
    "version": 2
   },
   "file_extension": ".py",
   "mimetype": "text/x-python",
   "name": "python",
   "nbconvert_exporter": "python",
   "pygments_lexer": "ipython2",
   "version": "2.7.13"
  }
 },
 "nbformat": 4,
 "nbformat_minor": 2
}
