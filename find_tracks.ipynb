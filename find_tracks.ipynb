{
 "cells": [
  {
   "cell_type": "code",
   "execution_count": 1,
   "metadata": {
    "collapsed": true
   },
   "outputs": [],
   "source": [
    "from __future__ import division\n",
    "import correlation as corr\n",
    "import helpy\n",
    "import matplotlib.pyplot as plt\n",
    "import numpy as np"
   ]
  },
  {
   "cell_type": "code",
   "execution_count": 2,
   "metadata": {
    "collapsed": true
   },
   "outputs": [],
   "source": [
    "prefix = '/Users/zhejun/Documents/Result/0531/477/result'"
   ]
  },
  {
   "cell_type": "code",
   "execution_count": 3,
   "metadata": {
    "collapsed": true
   },
   "outputs": [],
   "source": [
    "meta = helpy.load_meta(prefix)\n",
    "x0, y0, R = meta.get('boundary')\n",
    "pdata, cdata = helpy.load_data(prefix, 'position corner')"
   ]
  },
  {
   "cell_type": "code",
   "execution_count": 4,
   "metadata": {
    "collapsed": true
   },
   "outputs": [],
   "source": [
    "def data_filter(data, x0, y0, inner, outer):\n",
    "    x = data['x']\n",
    "    y = data['y']\n",
    "    position = [x - x0, y - y0]\n",
    "    distance = np.hypot(*position)\n",
    "    legal = np.where((distance < outer) & (distance > inner))\n",
    "    return data[legal]"
   ]
  },
  {
   "cell_type": "code",
   "execution_count": 5,
   "metadata": {
    "collapsed": true
   },
   "outputs": [],
   "source": [
    "posdata = data_filter(pdata, x0, y0, R -40 , R)\n",
    "cordata = data_filter(cdata, x0, y0, R -50, R + 5)"
   ]
  },
  {
   "cell_type": "code",
   "execution_count": 6,
   "metadata": {
    "collapsed": false
   },
   "outputs": [],
   "source": [
    "pfsets = helpy.load_framesets(posdata)"
   ]
  },
  {
   "cell_type": "code",
   "execution_count": 7,
   "metadata": {
    "collapsed": true
   },
   "outputs": [],
   "source": [
    "from tracks import find_tracks\n",
    "from scipy.spatial import cKDTree as KDTree"
   ]
  },
  {
   "cell_type": "code",
   "execution_count": 8,
   "metadata": {
    "collapsed": true
   },
   "outputs": [],
   "source": [
    "pftrees = {f: KDTree(helpy.consecutive_fields_view(pfset, 'xy')) for f, pfset in pfsets.iteritems()}"
   ]
  },
  {
   "cell_type": "code",
   "execution_count": 9,
   "metadata": {
    "collapsed": true
   },
   "outputs": [],
   "source": [
    "posdata['id'] = np.arange(len(posdata))"
   ]
  },
  {
   "cell_type": "code",
   "execution_count": 1,
   "metadata": {
    "collapsed": false,
    "scrolled": true
   },
   "outputs": [
    {
     "ename": "NameError",
     "evalue": "name 'find_tracks' is not defined",
     "output_type": "error",
     "traceback": [
      "\u001b[0;31m---------------------------------------------------------------------------\u001b[0m",
      "\u001b[0;31mNameError\u001b[0m                                 Traceback (most recent call last)",
      "\u001b[0;32m<ipython-input-1-c8f9d54d4f4a>\u001b[0m in \u001b[0;36m<module>\u001b[0;34m()\u001b[0m\n\u001b[0;32m----> 1\u001b[0;31m trackids = find_tracks(posdata, maxdist=100, giveup=10, n=0, stub=0,\n\u001b[0m\u001b[1;32m      2\u001b[0m                 cut=False, boundary=None, margin=0, pftrees = pftrees, pfsets = pfsets)\n",
      "\u001b[0;31mNameError\u001b[0m: name 'find_tracks' is not defined"
     ]
    }
   ],
   "source": [
    "trackids = find_tracks(posdata, maxdist=100, giveup=10, n=0, stub=0,\n",
    "                cut=False, boundary=None, margin=0, pftrees = pftrees, pfsets = pfsets)"
   ]
  },
  {
   "cell_type": "code",
   "execution_count": 18,
   "metadata": {
    "collapsed": false
   },
   "outputs": [],
   "source": [
    "# 23 frame has 76 or more particles"
   ]
  },
  {
   "cell_type": "code",
   "execution_count": 26,
   "metadata": {
    "collapsed": false
   },
   "outputs": [
    {
     "data": {
      "text/plain": [
       "70382"
      ]
     },
     "execution_count": 26,
     "metadata": {},
     "output_type": "execute_result"
    }
   ],
   "source": [
    "place[0][0]"
   ]
  },
  {
   "cell_type": "code",
   "execution_count": 20,
   "metadata": {
    "collapsed": false
   },
   "outputs": [],
   "source": [
    "place = np.where(trackids == 98)"
   ]
  },
  {
   "cell_type": "code",
   "execution_count": 27,
   "metadata": {
    "collapsed": false
   },
   "outputs": [
    {
     "name": "stdout",
     "output_type": "stream",
     "text": [
      "[63 69 65 70 67 72 68 73 74 71  0  3  1  5  6  2  4  8  7 11 98 12  9 10 15\n",
      " 13 17 14 19 16 21 18 23 20 25 22 27 24 29 26]\n"
     ]
    }
   ],
   "source": [
    "print trackids[(place[0][0] - 20): (place[0][0]+ 20)]"
   ]
  },
  {
   "cell_type": "code",
   "execution_count": 35,
   "metadata": {
    "collapsed": false
   },
   "outputs": [
    {
     "data": {
      "text/plain": [
       "13489.62882591653"
      ]
     },
     "execution_count": 35,
     "metadata": {},
     "output_type": "execute_result"
    }
   ],
   "source": [
    "(0.0000001) ** (-0.59)"
   ]
  },
  {
   "cell_type": "code",
   "execution_count": 39,
   "metadata": {
    "collapsed": false
   },
   "outputs": [],
   "source": [
    "thisdot = posdata.item(80)"
   ]
  },
  {
   "cell_type": "code",
   "execution_count": 40,
   "metadata": {
    "collapsed": false
   },
   "outputs": [
    {
     "data": {
      "text/plain": [
       "(1, 32.18199920654297, 404.9739990234375, 39, 0.55517578125, 172, 80L)"
      ]
     },
     "execution_count": 40,
     "metadata": {},
     "output_type": "execute_result"
    }
   ],
   "source": [
    "thisdot"
   ]
  },
  {
   "cell_type": "code",
   "execution_count": 41,
   "metadata": {
    "collapsed": false
   },
   "outputs": [
    {
     "name": "stdout",
     "output_type": "stream",
     "text": [
      "1\n"
     ]
    }
   ],
   "source": [
    "frame = thisdot[0]\n",
    "print frame"
   ]
  },
  {
   "cell_type": "code",
   "execution_count": 42,
   "metadata": {
    "collapsed": false
   },
   "outputs": [
    {
     "data": {
      "text/plain": [
       "False"
      ]
     },
     "execution_count": 42,
     "metadata": {},
     "output_type": "execute_result"
    }
   ],
   "source": [
    "frame < 1"
   ]
  },
  {
   "cell_type": "code",
   "execution_count": 43,
   "metadata": {
    "collapsed": true
   },
   "outputs": [],
   "source": [
    "oldtree = pftrees[frame - 1]"
   ]
  },
  {
   "cell_type": "code",
   "execution_count": 45,
   "metadata": {
    "collapsed": false
   },
   "outputs": [
    {
     "data": {
      "text/plain": [
       "75"
      ]
     },
     "execution_count": 45,
     "metadata": {},
     "output_type": "execute_result"
    }
   ],
   "source": [
    "len(oldtree.data)"
   ]
  },
  {
   "cell_type": "code",
   "execution_count": 46,
   "metadata": {
    "collapsed": true
   },
   "outputs": [],
   "source": [
    "thisdotxy = thisdot[1:3]"
   ]
  },
  {
   "cell_type": "code",
   "execution_count": 47,
   "metadata": {
    "collapsed": false
   },
   "outputs": [
    {
     "data": {
      "text/plain": [
       "(1, 32.18199920654297, 404.9739990234375, 39, 0.55517578125, 172, 80L)"
      ]
     },
     "execution_count": 47,
     "metadata": {},
     "output_type": "execute_result"
    }
   ],
   "source": [
    "thisdot"
   ]
  },
  {
   "cell_type": "code",
   "execution_count": 48,
   "metadata": {
    "collapsed": false
   },
   "outputs": [
    {
     "data": {
      "text/plain": [
       "(32.18199920654297, 404.9739990234375)"
      ]
     },
     "execution_count": 48,
     "metadata": {},
     "output_type": "execute_result"
    }
   ],
   "source": [
    "thisdotxy"
   ]
  },
  {
   "cell_type": "code",
   "execution_count": 49,
   "metadata": {
    "collapsed": false
   },
   "outputs": [],
   "source": [
    "maxdist_n = np.sqrt(1) * 20"
   ]
  },
  {
   "cell_type": "code",
   "execution_count": 91,
   "metadata": {
    "collapsed": true
   },
   "outputs": [],
   "source": [
    "mindist, mini = oldtree.query(thisdotxy, distance_upper_bound= maxdist_n)"
   ]
  },
  {
   "cell_type": "code",
   "execution_count": 51,
   "metadata": {
    "collapsed": false
   },
   "outputs": [
    {
     "data": {
      "text/plain": [
       "0.019417020800322465"
      ]
     },
     "execution_count": 51,
     "metadata": {},
     "output_type": "execute_result"
    }
   ],
   "source": [
    "mindist"
   ]
  },
  {
   "cell_type": "code",
   "execution_count": 52,
   "metadata": {
    "collapsed": false
   },
   "outputs": [
    {
     "data": {
      "text/plain": [
       "5"
      ]
     },
     "execution_count": 52,
     "metadata": {},
     "output_type": "execute_result"
    }
   ],
   "source": [
    "mini"
   ]
  },
  {
   "cell_type": "code",
   "execution_count": 53,
   "metadata": {
    "collapsed": false
   },
   "outputs": [
    {
     "data": {
      "text/plain": [
       "True"
      ]
     },
     "execution_count": 53,
     "metadata": {},
     "output_type": "execute_result"
    }
   ],
   "source": [
    "mindist < maxdist_n"
   ]
  },
  {
   "cell_type": "code",
   "execution_count": 54,
   "metadata": {
    "collapsed": true
   },
   "outputs": [],
   "source": [
    "closest = pfsets[frame-1].item(mini)"
   ]
  },
  {
   "cell_type": "code",
   "execution_count": 55,
   "metadata": {
    "collapsed": false
   },
   "outputs": [
    {
     "data": {
      "text/plain": [
       "(0, 32.20100021362305, 404.9700012207031, 41, 0.53515625, 170, 5L)"
      ]
     },
     "execution_count": 55,
     "metadata": {},
     "output_type": "execute_result"
    }
   ],
   "source": [
    "closest"
   ]
  },
  {
   "cell_type": "code",
   "execution_count": 62,
   "metadata": {
    "collapsed": true
   },
   "outputs": [],
   "source": [
    "curtree = pftrees[frame]"
   ]
  },
  {
   "cell_type": "code",
   "execution_count": 57,
   "metadata": {
    "collapsed": false
   },
   "outputs": [
    {
     "data": {
      "text/plain": [
       "array([[  22.92700005,  482.5329895 ],\n",
       "       [  22.61499977,  524.92602539],\n",
       "       [  26.06500053,  565.04199219],\n",
       "       [  27.24900055,  442.68798828],\n",
       "       [  31.43600082,  603.1619873 ],\n",
       "       [  32.18199921,  404.97399902],\n",
       "       [  42.75299835,  365.95300293],\n",
       "       [  42.68099976,  642.        ],\n",
       "       [  46.78300095,  614.08502197],\n",
       "       [  56.72000122,  325.32699585],\n",
       "       [  55.65800095,  680.05297852],\n",
       "       [  72.22100067,  716.75897217],\n",
       "       [  73.52899933,  289.98999023],\n",
       "       [  91.39499664,  255.33500671],\n",
       "       [  93.09899902,  754.80401611],\n",
       "       [ 115.07099915,  786.84399414],\n",
       "       [ 115.99199677,  218.80000305],\n",
       "       [ 138.32099915,  817.8449707 ],\n",
       "       [ 140.30499268,  188.65400696],\n",
       "       [ 167.14599609,  849.37298584],\n",
       "       [ 169.71800232,  157.29200745],\n",
       "       [ 197.40299988,  873.44598389],\n",
       "       [ 201.40100098,  131.15699768],\n",
       "       [ 229.19999695,  895.08099365],\n",
       "       [ 232.6499939 ,  107.10399628],\n",
       "       [ 259.14401245,  919.52197266],\n",
       "       [ 268.49301147,   84.8809967 ],\n",
       "       [ 296.67300415,  934.96002197],\n",
       "       [ 303.25100708,   68.15799713],\n",
       "       [ 337.25799561,  956.57397461],\n",
       "       [ 342.49499512,   51.44499969],\n",
       "       [ 373.60501099,  968.73699951],\n",
       "       [ 381.5539856 ,   39.9620018 ],\n",
       "       [ 414.46798706,  975.98199463],\n",
       "       [ 420.14599609,   30.47800064],\n",
       "       [ 452.61099243,  981.0949707 ],\n",
       "       [ 460.29299927,   24.81299973],\n",
       "       [ 494.98599243,  985.95898438],\n",
       "       [ 500.08700562,   24.11899948],\n",
       "       [ 533.8079834 ,  985.17797852],\n",
       "       [ 541.39501953,   24.90999985],\n",
       "       [ 573.95001221,  980.5960083 ],\n",
       "       [ 582.30297852,   30.27099991],\n",
       "       [ 613.58197021,  972.32397461],\n",
       "       [ 620.23400879,   38.00500107],\n",
       "       [ 653.0289917 ,  962.17498779],\n",
       "       [ 658.81896973,   49.06700134],\n",
       "       [ 696.45800781,  946.23699951],\n",
       "       [ 697.87701416,   65.82299805],\n",
       "       [ 732.64398193,   83.7460022 ],\n",
       "       [ 731.94799805,  923.57800293],\n",
       "       [ 766.190979  ,  103.41100311],\n",
       "       [ 768.90600586,  905.87799072],\n",
       "       [ 800.73297119,  126.6760025 ],\n",
       "       [ 800.30999756,  884.48498535],\n",
       "       [ 830.91400146,  151.11300659],\n",
       "       [ 830.72302246,  856.57800293],\n",
       "       [ 858.00701904,  179.31500244],\n",
       "       [ 859.01501465,  828.96502686],\n",
       "       [ 882.05700684,  210.24299622],\n",
       "       [ 885.22399902,  798.60498047],\n",
       "       [ 906.57000732,  241.73500061],\n",
       "       [ 908.31201172,  766.00799561],\n",
       "       [ 925.71099854,  276.91400146],\n",
       "       [ 925.61999512,  730.76599121],\n",
       "       [ 943.559021  ,  311.22601318],\n",
       "       [ 943.9039917 ,  696.77697754],\n",
       "       [ 957.10400391,  347.67800903],\n",
       "       [ 958.04901123,  660.03198242],\n",
       "       [ 968.58099365,  617.92901611],\n",
       "       [ 969.00299072,  384.70001221],\n",
       "       [ 977.21697998,  422.85598755],\n",
       "       [ 978.97497559,  579.89202881],\n",
       "       [ 981.31500244,  461.54000854],\n",
       "       [ 984.1630249 ,  500.84799194],\n",
       "       [ 983.21697998,  541.76300049]])"
      ]
     },
     "execution_count": 57,
     "metadata": {},
     "output_type": "execute_result"
    }
   ],
   "source": [
    "curtree.data"
   ]
  },
  {
   "cell_type": "code",
   "execution_count": 63,
   "metadata": {
    "collapsed": false
   },
   "outputs": [
    {
     "data": {
      "text/plain": [
       "1"
      ]
     },
     "execution_count": 63,
     "metadata": {},
     "output_type": "execute_result"
    }
   ],
   "source": [
    "frame "
   ]
  },
  {
   "cell_type": "code",
   "execution_count": 64,
   "metadata": {
    "collapsed": true
   },
   "outputs": [],
   "source": [
    "closestxy = closest[1:3]"
   ]
  },
  {
   "cell_type": "code",
   "execution_count": 65,
   "metadata": {
    "collapsed": false
   },
   "outputs": [
    {
     "data": {
      "text/plain": [
       "(32.20100021362305, 404.9700012207031)"
      ]
     },
     "execution_count": 65,
     "metadata": {},
     "output_type": "execute_result"
    }
   ],
   "source": [
    "closestxy"
   ]
  },
  {
   "cell_type": "code",
   "execution_count": 73,
   "metadata": {
    "collapsed": true
   },
   "outputs": [],
   "source": [
    "mindist2, mini2 = curtree.query(closestxy, distance_upper_bound=mindist)"
   ]
  },
  {
   "cell_type": "code",
   "execution_count": 74,
   "metadata": {
    "collapsed": false
   },
   "outputs": [
    {
     "data": {
      "text/plain": [
       "inf"
      ]
     },
     "execution_count": 74,
     "metadata": {},
     "output_type": "execute_result"
    }
   ],
   "source": [
    "mindist2"
   ]
  },
  {
   "cell_type": "code",
   "execution_count": 75,
   "metadata": {
    "collapsed": false
   },
   "outputs": [
    {
     "data": {
      "text/plain": [
       "0.019417020800322465"
      ]
     },
     "execution_count": 75,
     "metadata": {},
     "output_type": "execute_result"
    }
   ],
   "source": [
    "mindist"
   ]
  },
  {
   "cell_type": "code",
   "execution_count": 76,
   "metadata": {
    "collapsed": false
   },
   "outputs": [
    {
     "data": {
      "text/plain": [
       "False"
      ]
     },
     "execution_count": 76,
     "metadata": {},
     "output_type": "execute_result"
    }
   ],
   "source": [
    "mindist2 < mindist"
   ]
  },
  {
   "cell_type": "code",
   "execution_count": 77,
   "metadata": {
    "collapsed": true
   },
   "outputs": [],
   "source": [
    "trackids = -np.ones(posdata.shape, dtype = int)"
   ]
  },
  {
   "cell_type": "code",
   "execution_count": 80,
   "metadata": {
    "collapsed": false
   },
   "outputs": [],
   "source": [
    "trackids[0:79]= list(range(79))"
   ]
  },
  {
   "cell_type": "code",
   "execution_count": 81,
   "metadata": {
    "collapsed": false
   },
   "outputs": [
    {
     "data": {
      "text/plain": [
       "array([ 0,  1,  2, ..., -1, -1, -1])"
      ]
     },
     "execution_count": 81,
     "metadata": {},
     "output_type": "execute_result"
    }
   ],
   "source": [
    "trackids"
   ]
  },
  {
   "cell_type": "code",
   "execution_count": 82,
   "metadata": {
    "collapsed": true
   },
   "outputs": [],
   "source": [
    "oldtrackid = trackids[closest[-1]]"
   ]
  },
  {
   "cell_type": "code",
   "execution_count": 83,
   "metadata": {
    "collapsed": false
   },
   "outputs": [
    {
     "data": {
      "text/plain": [
       "5"
      ]
     },
     "execution_count": 83,
     "metadata": {},
     "output_type": "execute_result"
    }
   ],
   "source": [
    "oldtrackid"
   ]
  },
  {
   "cell_type": "code",
   "execution_count": 84,
   "metadata": {
    "collapsed": false
   },
   "outputs": [
    {
     "data": {
      "text/plain": [
       "5L"
      ]
     },
     "execution_count": 84,
     "metadata": {},
     "output_type": "execute_result"
    }
   ],
   "source": [
    "closest[-1]"
   ]
  },
  {
   "cell_type": "code",
   "execution_count": 87,
   "metadata": {
    "collapsed": false
   },
   "outputs": [],
   "source": [
    "p = None"
   ]
  },
  {
   "cell_type": "code",
   "execution_count": 88,
   "metadata": {
    "collapsed": false
   },
   "outputs": [
    {
     "data": {
      "text/plain": [
       "True"
      ]
     },
     "execution_count": 88,
     "metadata": {},
     "output_type": "execute_result"
    }
   ],
   "source": [
    "p is None"
   ]
  },
  {
   "cell_type": "code",
   "execution_count": 89,
   "metadata": {
    "collapsed": false
   },
   "outputs": [
    {
     "data": {
      "text/plain": [
       "78"
      ]
     },
     "execution_count": 89,
     "metadata": {},
     "output_type": "execute_result"
    }
   ],
   "source": [
    "max(trackids)"
   ]
  },
  {
   "cell_type": "code",
   "execution_count": 90,
   "metadata": {
    "collapsed": false
   },
   "outputs": [
    {
     "data": {
      "text/plain": [
       "array([ 0,  1,  2, ..., -1, -1, -1])"
      ]
     },
     "execution_count": 90,
     "metadata": {},
     "output_type": "execute_result"
    }
   ],
   "source": [
    "trackids"
   ]
  },
  {
   "cell_type": "code",
   "execution_count": 93,
   "metadata": {
    "collapsed": false
   },
   "outputs": [
    {
     "data": {
      "text/plain": [
       "98"
      ]
     },
     "execution_count": 93,
     "metadata": {},
     "output_type": "execute_result"
    }
   ],
   "source": [
    "max(trackids)"
   ]
  },
  {
   "cell_type": "code",
   "execution_count": null,
   "metadata": {
    "collapsed": true
   },
   "outputs": [],
   "source": []
  }
 ],
 "metadata": {
  "kernelspec": {
   "display_name": "Python 2",
   "language": "python",
   "name": "python2"
  },
  "language_info": {
   "codemirror_mode": {
    "name": "ipython",
    "version": 2
   },
   "file_extension": ".py",
   "mimetype": "text/x-python",
   "name": "python",
   "nbconvert_exporter": "python",
   "pygments_lexer": "ipython2",
   "version": "2.7.13"
  }
 },
 "nbformat": 4,
 "nbformat_minor": 2
}
