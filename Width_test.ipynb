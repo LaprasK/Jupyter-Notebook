{
 "cells": [
  {
   "cell_type": "code",
   "execution_count": 7,
   "metadata": {
    "collapsed": true
   },
   "outputs": [],
   "source": [
    "import numpy as np\n",
    "import helpy\n",
    "import matplotlib.pyplot as plt"
   ]
  },
  {
   "cell_type": "code",
   "execution_count": 8,
   "metadata": {
    "collapsed": true
   },
   "outputs": [],
   "source": [
    "import velocity"
   ]
  },
  {
   "cell_type": "code",
   "execution_count": 9,
   "metadata": {
    "collapsed": true
   },
   "outputs": [],
   "source": [
    "prefix = '/Users/zhejun/Document/Result/0718_order_two_escape/result'"
   ]
  },
  {
   "cell_type": "code",
   "execution_count": 10,
   "metadata": {
    "collapsed": true
   },
   "outputs": [],
   "source": [
    "data = helpy.load_data(prefix)\n",
    "data['o'] = (data['o'] + np.pi)%(2 * np.pi)   # flip the detected orientation\n",
    "tracksets = helpy.load_tracksets(data, run_track_orient=True, run_repair = 'interp')\n",
    "track_prefix = {prefix: tracksets}"
   ]
  },
  {
   "cell_type": "code",
   "execution_count": null,
   "metadata": {
    "collapsed": true
   },
   "outputs": [],
   "source": []
  },
  {
   "cell_type": "code",
   "execution_count": 151,
   "metadata": {
    "collapsed": true
   },
   "outputs": [],
   "source": [
    "v_diff = velocity.compile_noise(track_prefix, width = (0,), cat = False, side = 36, fps = 2.5, \n",
    "                           ring = True, x0 = x0, y0= y0, skip = 1, grad = False)"
   ]
  },
  {
   "cell_type": "code",
   "execution_count": 153,
   "metadata": {
    "collapsed": true
   },
   "outputs": [],
   "source": [
    "v_diff = v_diff[prefix]"
   ]
  },
  {
   "cell_type": "code",
   "execution_count": 154,
   "metadata": {
    "collapsed": true
   },
   "outputs": [],
   "source": [
    "diff_data = helpy.load_framesets(v_diff)\n",
    "vd = list()\n",
    "for f, fdata in diff_data.iteritems():\n",
    "        vring = fdata['vring']\n",
    "        vd.append(vring.mean())\n",
    "vd = vd[100:-100]"
   ]
  },
  {
   "cell_type": "code",
   "execution_count": 160,
   "metadata": {},
   "outputs": [
    {
     "data": {
      "image/png": "[encoded data removed]",
      "text/plain": [
       "<matplotlib.figure.Figure at 0x11d06cbd0>"
      ]
     },
     "metadata": {},
     "output_type": "display_data"
    }
   ],
   "source": [
    "plt.plot(vd)\n",
    "plt.show()"
   ]
  },
  {
   "cell_type": "code",
   "execution_count": 161,
   "metadata": {},
   "outputs": [
    {
     "name": "stdout",
     "output_type": "stream",
     "text": [
      "0.0660799\n",
      "0.0509655\n"
     ]
    }
   ],
   "source": [
    "print np.mean(vd)\n",
    "print np.std(vd)"
   ]
  },
  {
   "cell_type": "code",
   "execution_count": 142,
   "metadata": {
    "collapsed": true
   },
   "outputs": [],
   "source": [
    "v = velocity.compile_noise(track_prefix, width = (0.65,), cat = False, side = 36, fps = 2.5, \n",
    "                           ring = True, x0 = x0, y0= y0, skip = 1, grad = False)"
   ]
  },
  {
   "cell_type": "code",
   "execution_count": 143,
   "metadata": {
    "collapsed": true
   },
   "outputs": [],
   "source": [
    "meta = helpy.load_meta(prefix)"
   ]
  },
  {
   "cell_type": "code",
   "execution_count": 144,
   "metadata": {
    "collapsed": true
   },
   "outputs": [],
   "source": [
    "x0, y0, R = meta.get('boundary')"
   ]
  },
  {
   "cell_type": "code",
   "execution_count": 145,
   "metadata": {
    "collapsed": true
   },
   "outputs": [],
   "source": [
    "vdata = v[prefix]"
   ]
  },
  {
   "cell_type": "code",
   "execution_count": 146,
   "metadata": {
    "collapsed": true
   },
   "outputs": [],
   "source": [
    "frame_data = helpy.load_framesets(vdata)"
   ]
  },
  {
   "cell_type": "code",
   "execution_count": 147,
   "metadata": {
    "collapsed": true
   },
   "outputs": [],
   "source": [
    "vs = list()\n",
    "for f, fdata in frame_data.iteritems():\n",
    "        vring = fdata['vring']\n",
    "        vs.append(vring.mean())\n",
    "vs = vs[100:-100]"
   ]
  },
  {
   "cell_type": "code",
   "execution_count": 148,
   "metadata": {},
   "outputs": [
    {
     "data": {
      "image/png": "[encoded data removed]",
      "text/plain": [
       "<matplotlib.figure.Figure at 0x1195e4a90>"
      ]
     },
     "metadata": {},
     "output_type": "display_data"
    }
   ],
   "source": [
    "plt.plot(vs)\n",
    "plt.show()"
   ]
  },
  {
   "cell_type": "code",
   "execution_count": 149,
   "metadata": {},
   "outputs": [
    {
     "data": {
      "text/plain": [
       "0.015478083"
      ]
     },
     "execution_count": 149,
     "metadata": {},
     "output_type": "execute_result"
    }
   ],
   "source": [
    "np.std(vs)"
   ]
  },
  {
   "cell_type": "code",
   "execution_count": 150,
   "metadata": {},
   "outputs": [
    {
     "data": {
      "text/plain": [
       "0.065506853"
      ]
     },
     "execution_count": 150,
     "metadata": {},
     "output_type": "execute_result"
    }
   ],
   "source": [
    "np.mean(vs)"
   ]
  },
  {
   "cell_type": "code",
   "execution_count": 57,
   "metadata": {},
   "outputs": [
    {
     "data": {
      "text/plain": [
       "array([  0.5,   1. ,   1.5,   2. ,   2.5,   3. ,   3.5,   4. ,   4.5,\n",
       "         5. ,   5.5,   6. ,   6.5,   7. ,   7.5,   8. ,   8.5,   9. ,\n",
       "         9.5,  10. ,  10.5,  11. ,  11.5,  12. ,  12.5,  13. ,  13.5,\n",
       "        14. ,  14.5,  15. ,  15.5,  16. ,  16.5,  17. ,  17.5,  18. ,\n",
       "        18.5,  19. ,  19.5])"
      ]
     },
     "execution_count": 57,
     "metadata": {},
     "output_type": "execute_result"
    }
   ],
   "source": [
    "width"
   ]
  },
  {
   "cell_type": "code",
   "execution_count": 56,
   "metadata": {
    "collapsed": true
   },
   "outputs": [],
   "source": [
    "width = np.arange(0.5, 20, 0.5)"
   ]
  },
  {
   "cell_type": "code",
   "execution_count": 58,
   "metadata": {
    "collapsed": true
   },
   "outputs": [],
   "source": [
    "result = list()\n",
    "for iwidth in width:\n",
    "    v = velocity.compile_noise(track_prefix, width = (iwidth,), cat = False, side = 36, fps = 2.5, ring = True,\n",
    "                               x0 = x0, y0= y0, skip = 1, grad = False)\n",
    "    vdata = v[prefix]\n",
    "    frame_data = helpy.load_framesets(vdata)\n",
    "    vs = list()\n",
    "    for f, fdata in frame_data.iteritems():\n",
    "            vring = fdata['vring']\n",
    "            vs.append(vring.mean())\n",
    "    vs = vs[100:-100]\n",
    "    result.append(np.std(vs))"
   ]
  },
  {
   "cell_type": "code",
   "execution_count": 59,
   "metadata": {},
   "outputs": [
    {
     "data": {
      "text/plain": [
       "<matplotlib.collections.PathCollection at 0x118481a10>"
      ]
     },
     "execution_count": 59,
     "metadata": {},
     "output_type": "execute_result"
    }
   ],
   "source": [
    "plt.scatter(width, result)"
   ]
  },
  {
   "cell_type": "code",
   "execution_count": 60,
   "metadata": {},
   "outputs": [
    {
     "data": {
      "image/png": "[encoded data removed]",
      "text/plain": [
       "<matplotlib.figure.Figure at 0x11030a2d0>"
      ]
     },
     "metadata": {},
     "output_type": "display_data"
    }
   ],
   "source": [
    "plt.show()"
   ]
  },
  {
   "cell_type": "code",
   "execution_count": 61,
   "metadata": {
    "collapsed": true
   },
   "outputs": [],
   "source": [
    "width2 = np.arange(0.5, 1, 0.05)"
   ]
  },
  {
   "cell_type": "code",
   "execution_count": 62,
   "metadata": {
    "collapsed": true
   },
   "outputs": [],
   "source": [
    "result2 = list()"
   ]
  },
  {
   "cell_type": "code",
   "execution_count": 63,
   "metadata": {
    "collapsed": true
   },
   "outputs": [],
   "source": [
    "for iwidth in width2:\n",
    "    v = velocity.compile_noise(track_prefix, width = (iwidth,), cat = False, side = 36, fps = 2.5,\n",
    "                               ring = True, x0 = x0, y0= y0, skip = 1, grad = False)\n",
    "    vdata = v[prefix]\n",
    "    frame_data = helpy.load_framesets(vdata)\n",
    "    vs = list()\n",
    "    for f, fdata in frame_data.iteritems():\n",
    "            vring = fdata['vring']\n",
    "            vs.append(vring.mean())\n",
    "    vs = vs[100:-100]\n",
    "    result2.append(np.std(vs))"
   ]
  },
  {
   "cell_type": "code",
   "execution_count": 64,
   "metadata": {},
   "outputs": [
    {
     "data": {
      "text/plain": [
       "<matplotlib.collections.PathCollection at 0x1150a07d0>"
      ]
     },
     "execution_count": 64,
     "metadata": {},
     "output_type": "execute_result"
    }
   ],
   "source": [
    "plt.scatter(width2, result2)"
   ]
  },
  {
   "cell_type": "code",
   "execution_count": 65,
   "metadata": {},
   "outputs": [
    {
     "data": {
      "image/png": "[encoded data removed]",
      "text/plain": [
       "<matplotlib.figure.Figure at 0x115086110>"
      ]
     },
     "metadata": {},
     "output_type": "display_data"
    }
   ],
   "source": [
    "plt.show()"
   ]
  },
  {
   "cell_type": "code",
   "execution_count": 184,
   "metadata": {
    "collapsed": true
   },
   "outputs": [],
   "source": [
    "vgrad = velocity.compile_noise(track_prefix, width = (10,), cat = False, side = 36, fps = 2.5, \n",
    "                               ring = True, x0 = x0, y0= y0, skip = 1, grad = True)"
   ]
  },
  {
   "cell_type": "code",
   "execution_count": 185,
   "metadata": {},
   "outputs": [
    {
     "data": {
      "text/plain": [
       "['/Users/zhejun/Document/Result/0718_order_two_escape/result']"
      ]
     },
     "execution_count": 185,
     "metadata": {},
     "output_type": "execute_result"
    }
   ],
   "source": [
    "vgrad.keys()"
   ]
  },
  {
   "cell_type": "code",
   "execution_count": 186,
   "metadata": {
    "collapsed": true
   },
   "outputs": [],
   "source": [
    "vgrad_data = vgrad[prefix]"
   ]
  },
  {
   "cell_type": "code",
   "execution_count": 187,
   "metadata": {
    "collapsed": true
   },
   "outputs": [],
   "source": [
    "grad_frame_data = helpy.load_framesets(vgrad_data)"
   ]
  },
  {
   "cell_type": "code",
   "execution_count": 188,
   "metadata": {
    "collapsed": true
   },
   "outputs": [],
   "source": [
    "grad_vs = list()\n",
    "for f, fdata in grad_frame_data.iteritems():\n",
    "        vring = fdata['vring']\n",
    "        grad_vs.append(vring.mean())"
   ]
  },
  {
   "cell_type": "code",
   "execution_count": 189,
   "metadata": {},
   "outputs": [
    {
     "data": {
      "image/png": "[encoded data removed]",
      "text/plain": [
       "<matplotlib.figure.Figure at 0x11bea7310>"
      ]
     },
     "metadata": {},
     "output_type": "display_data"
    }
   ],
   "source": [
    "plt.plot(grad_vs)\n",
    "plt.show()"
   ]
  },
  {
   "cell_type": "code",
   "execution_count": 190,
   "metadata": {},
   "outputs": [
    {
     "data": {
      "text/plain": [
       "0.066016734"
      ]
     },
     "execution_count": 190,
     "metadata": {},
     "output_type": "execute_result"
    }
   ],
   "source": [
    "np.mean(grad_vs)"
   ]
  },
  {
   "cell_type": "code",
   "execution_count": 191,
   "metadata": {},
   "outputs": [
    {
     "data": {
      "text/plain": [
       "0.018147625"
      ]
     },
     "execution_count": 191,
     "metadata": {},
     "output_type": "execute_result"
    }
   ],
   "source": [
    "np.std(grad_vs)"
   ]
  },
  {
   "cell_type": "code",
   "execution_count": 83,
   "metadata": {},
   "outputs": [
    {
     "data": {
      "text/plain": [
       "[0.015378163,\n",
       " 0.016387956,\n",
       " 0.016292181,\n",
       " 0.015478083,\n",
       " 0.014281213,\n",
       " 0.012966529,\n",
       " 0.011718709,\n",
       " 0.010646844,\n",
       " 0.0097951908,\n",
       " 0.0091562886]"
      ]
     },
     "execution_count": 83,
     "metadata": {},
     "output_type": "execute_result"
    }
   ],
   "source": [
    "result2"
   ]
  },
  {
   "cell_type": "code",
   "execution_count": 84,
   "metadata": {},
   "outputs": [
    {
     "data": {
      "text/plain": [
       "[0.015378163,\n",
       " 0.0086944308,\n",
       " 0.0071562664,\n",
       " 0.0063964087,\n",
       " 0.0058209444,\n",
       " 0.0053613256,\n",
       " 0.0049831793,\n",
       " 0.0046662781,\n",
       " 0.004397131,\n",
       " 0.0041659456,\n",
       " 0.0039653238,\n",
       " 0.003789614,\n",
       " 0.0036344677,\n",
       " 0.0034965051,\n",
       " 0.003373049,\n",
       " 0.0032619406,\n",
       " 0.0031614075,\n",
       " 0.0030699742,\n",
       " 0.0029864006,\n",
       " 0.0029096357,\n",
       " 0.0028387874,\n",
       " 0.0027730956,\n",
       " 0.0027119147,\n",
       " 0.0026546961,\n",
       " 0.0026009742,\n",
       " 0.0025503547,\n",
       " 0.0025025052,\n",
       " 0.0024571435,\n",
       " 0.002414031,\n",
       " 0.0023729645,\n",
       " 0.0023337707,\n",
       " 0.0022963004,\n",
       " 0.0022604237,\n",
       " 0.0022260274,\n",
       " 0.0021930113,\n",
       " 0.0021612856,\n",
       " 0.0021307704,\n",
       " 0.0021013927,\n",
       " 0.0020730866]"
      ]
     },
     "execution_count": 84,
     "metadata": {},
     "output_type": "execute_result"
    }
   ],
   "source": [
    "result"
   ]
  },
  {
   "cell_type": "code",
   "execution_count": 85,
   "metadata": {},
   "outputs": [
    {
     "data": {
      "text/plain": [
       "array([ 0.5 ,  0.55,  0.6 ,  0.65,  0.7 ,  0.75,  0.8 ,  0.85,  0.9 ,  0.95])"
      ]
     },
     "execution_count": 85,
     "metadata": {},
     "output_type": "execute_result"
    }
   ],
   "source": [
    "width2"
   ]
  },
  {
   "cell_type": "code",
   "execution_count": 86,
   "metadata": {
    "collapsed": true
   },
   "outputs": [],
   "source": [
    "a = [1,2,3]"
   ]
  },
  {
   "cell_type": "code",
   "execution_count": 87,
   "metadata": {
    "collapsed": true
   },
   "outputs": [],
   "source": [
    "a[0] = [2,3]"
   ]
  },
  {
   "cell_type": "code",
   "execution_count": 89,
   "metadata": {
    "collapsed": true
   },
   "outputs": [],
   "source": [
    "a[0] = 2, 3 ,4"
   ]
  },
  {
   "cell_type": "code",
   "execution_count": 90,
   "metadata": {},
   "outputs": [
    {
     "data": {
      "text/plain": [
       "[(2, 3, 4), 2, 3]"
      ]
     },
     "execution_count": 90,
     "metadata": {},
     "output_type": "execute_result"
    }
   ],
   "source": [
    "a"
   ]
  },
  {
   "cell_type": "code",
   "execution_count": 98,
   "metadata": {
    "collapsed": true
   },
   "outputs": [],
   "source": [
    "standard_deviation = result2 + result[1:]"
   ]
  },
  {
   "cell_type": "code",
   "execution_count": 92,
   "metadata": {},
   "outputs": [
    {
     "data": {
      "text/plain": [
       "[1, 2, 3, 4, 5, 6]"
      ]
     },
     "execution_count": 92,
     "metadata": {},
     "output_type": "execute_result"
    }
   ],
   "source": [
    "[1,2,3] + [4,5,6]"
   ]
  },
  {
   "cell_type": "code",
   "execution_count": 99,
   "metadata": {
    "collapsed": true
   },
   "outputs": [],
   "source": [
    "a = width2"
   ]
  },
  {
   "cell_type": "code",
   "execution_count": 100,
   "metadata": {},
   "outputs": [
    {
     "data": {
      "text/plain": [
       "array([ 0.5 ,  0.55,  0.6 ,  0.65,  0.7 ,  0.75,  0.8 ,  0.85,  0.9 ,  0.95])"
      ]
     },
     "execution_count": 100,
     "metadata": {},
     "output_type": "execute_result"
    }
   ],
   "source": [
    "a"
   ]
  },
  {
   "cell_type": "code",
   "execution_count": 102,
   "metadata": {
    "collapsed": true
   },
   "outputs": [],
   "source": [
    "gaussian_width = np.append(a, width[1:])"
   ]
  },
  {
   "cell_type": "code",
   "execution_count": 104,
   "metadata": {},
   "outputs": [
    {
     "data": {
      "image/png": "[encoded data removed]",
      "text/plain": [
       "<matplotlib.figure.Figure at 0x118ebf2d0>"
      ]
     },
     "metadata": {},
     "output_type": "display_data"
    }
   ],
   "source": [
    "plt.scatter(gaussian_width, standard_deviation)\n",
    "plt.show()"
   ]
  },
  {
   "cell_type": "code",
   "execution_count": 138,
   "metadata": {
    "collapsed": true
   },
   "outputs": [],
   "source": [
    "a = [1,4,5,9,3,10]"
   ]
  },
  {
   "cell_type": "code",
   "execution_count": 249,
   "metadata": {},
   "outputs": [
    {
     "data": {
      "text/plain": [
       "[0.015378163,\n",
       " 0.016387956,\n",
       " 0.016292181,\n",
       " 0.015478083,\n",
       " 0.014281213,\n",
       " 0.012966529,\n",
       " 0.011718709,\n",
       " 0.010646844,\n",
       " 0.0097951908,\n",
       " 0.0091562886,\n",
       " 0.0086944308,\n",
       " 0.0071562664,\n",
       " 0.0063964087,\n",
       " 0.0058209444,\n",
       " 0.0053613256,\n",
       " 0.0049831793,\n",
       " 0.0046662781,\n",
       " 0.004397131,\n",
       " 0.0041659456,\n",
       " 0.0039653238,\n",
       " 0.003789614,\n",
       " 0.0036344677,\n",
       " 0.0034965051,\n",
       " 0.003373049,\n",
       " 0.0032619406,\n",
       " 0.0031614075,\n",
       " 0.0030699742,\n",
       " 0.0029864006,\n",
       " 0.0029096357,\n",
       " 0.0028387874,\n",
       " 0.0027730956,\n",
       " 0.0027119147,\n",
       " 0.0026546961,\n",
       " 0.0026009742,\n",
       " 0.0025503547,\n",
       " 0.0025025052,\n",
       " 0.0024571435,\n",
       " 0.002414031,\n",
       " 0.0023729645,\n",
       " 0.0023337707,\n",
       " 0.0022963004,\n",
       " 0.0022604237,\n",
       " 0.0022260274,\n",
       " 0.0021930113,\n",
       " 0.0021612856,\n",
       " 0.0021307704,\n",
       " 0.0021013927,\n",
       " 0.0020730866]"
      ]
     },
     "execution_count": 249,
     "metadata": {},
     "output_type": "execute_result"
    }
   ],
   "source": [
    "standard_deviation"
   ]
  },
  {
   "cell_type": "code",
   "execution_count": 163,
   "metadata": {},
   "outputs": [
    {
     "data": {
      "text/plain": [
       "0.066030160523951054"
      ]
     },
     "execution_count": 163,
     "metadata": {},
     "output_type": "execute_result"
    }
   ],
   "source": [
    "np.mean(grad_vs)*2.5"
   ]
  },
  {
   "cell_type": "code",
   "execution_count": 183,
   "metadata": {},
   "outputs": [
    {
     "data": {
      "text/plain": [
       "<module 'velocity' from '/Users/zhejun/Document/Research Code/track/velocity.py'>"
      ]
     },
     "execution_count": 183,
     "metadata": {},
     "output_type": "execute_result"
    }
   ],
   "source": [
    "reload(velocity)"
   ]
  },
  {
   "cell_type": "code",
   "execution_count": 173,
   "metadata": {},
   "outputs": [
    {
     "data": {
      "text/plain": [
       "0.018125612"
      ]
     },
     "execution_count": 173,
     "metadata": {},
     "output_type": "execute_result"
    }
   ],
   "source": [
    "np.std(grad_vs)"
   ]
  },
  {
   "cell_type": "code",
   "execution_count": 192,
   "metadata": {},
   "outputs": [
    {
     "data": {
      "text/plain": [
       "2.592517857142857"
      ]
     },
     "execution_count": 192,
     "metadata": {},
     "output_type": "execute_result"
    }
   ],
   "source": [
    "0.018147625 /0.007"
   ]
  },
  {
   "cell_type": "code",
   "execution_count": 193,
   "metadata": {
    "collapsed": true
   },
   "outputs": [],
   "source": [
    "atest = np.random.rand(100)"
   ]
  },
  {
   "cell_type": "code",
   "execution_count": 195,
   "metadata": {},
   "outputs": [
    {
     "data": {
      "text/plain": [
       "0.30659578787311947"
      ]
     },
     "execution_count": 195,
     "metadata": {},
     "output_type": "execute_result"
    }
   ],
   "source": [
    "atest.std()"
   ]
  },
  {
   "cell_type": "code",
   "execution_count": 196,
   "metadata": {
    "collapsed": true
   },
   "outputs": [],
   "source": [
    "btest = atest*10"
   ]
  },
  {
   "cell_type": "code",
   "execution_count": 197,
   "metadata": {},
   "outputs": [
    {
     "data": {
      "text/plain": [
       "3.065957878731195"
      ]
     },
     "execution_count": 197,
     "metadata": {},
     "output_type": "execute_result"
    }
   ],
   "source": [
    "btest.std()"
   ]
  },
  {
   "cell_type": "code",
   "execution_count": 220,
   "metadata": {
    "collapsed": true
   },
   "outputs": [],
   "source": [
    "vg = velocity.compile_noise(track_prefix, width = (2,), cat = False, side = 36, fps = 2.5, \n",
    "                               ring = True, x0 = x0, y0= y0, skip = 1, grad = False)\n",
    "vg = vg[prefix]\n",
    "fgdata = helpy.load_framesets(vg)"
   ]
  },
  {
   "cell_type": "code",
   "execution_count": 221,
   "metadata": {
    "collapsed": true
   },
   "outputs": [],
   "source": [
    "gv = list()\n",
    "for f, fdata in fgdata.iteritems():\n",
    "        vring = fdata['vring']\n",
    "        gv.append(vring.mean())"
   ]
  },
  {
   "cell_type": "code",
   "execution_count": 222,
   "metadata": {},
   "outputs": [
    {
     "data": {
      "text/plain": [
       "0.066016734"
      ]
     },
     "execution_count": 222,
     "metadata": {},
     "output_type": "execute_result"
    }
   ],
   "source": [
    "np.mean(gv)"
   ]
  },
  {
   "cell_type": "code",
   "execution_count": 223,
   "metadata": {},
   "outputs": [
    {
     "data": {
      "text/plain": [
       "0.018147627"
      ]
     },
     "execution_count": 223,
     "metadata": {},
     "output_type": "execute_result"
    }
   ],
   "source": [
    "np.std(gv)"
   ]
  },
  {
   "cell_type": "code",
   "execution_count": 207,
   "metadata": {},
   "outputs": [
    {
     "data": {
      "text/plain": [
       "0.00725905"
      ]
     },
     "execution_count": 207,
     "metadata": {},
     "output_type": "execute_result"
    }
   ],
   "source": [
    "0.018147625/2.5"
   ]
  },
  {
   "cell_type": "code",
   "execution_count": 210,
   "metadata": {},
   "outputs": [
    {
     "data": {
      "text/plain": [
       "array([  0.5 ,   0.55,   0.6 ,   0.65,   0.7 ,   0.75,   0.8 ,   0.85,\n",
       "         0.9 ,   0.95,   1.  ,   1.5 ,   2.  ,   2.5 ,   3.  ,   3.5 ,\n",
       "         4.  ,   4.5 ,   5.  ,   5.5 ,   6.  ,   6.5 ,   7.  ,   7.5 ,\n",
       "         8.  ,   8.5 ,   9.  ,   9.5 ,  10.  ,  10.5 ,  11.  ,  11.5 ,\n",
       "        12.  ,  12.5 ,  13.  ,  13.5 ,  14.  ,  14.5 ,  15.  ,  15.5 ,\n",
       "        16.  ,  16.5 ,  17.  ,  17.5 ,  18.  ,  18.5 ,  19.  ,  19.5 ])"
      ]
     },
     "execution_count": 210,
     "metadata": {},
     "output_type": "execute_result"
    }
   ],
   "source": [
    "gaussian_width"
   ]
  },
  {
   "cell_type": "code",
   "execution_count": 211,
   "metadata": {},
   "outputs": [
    {
     "data": {
      "text/plain": [
       "False"
      ]
     },
     "execution_count": 211,
     "metadata": {},
     "output_type": "execute_result"
    }
   ],
   "source": [
    "2.  is 2"
   ]
  },
  {
   "cell_type": "code",
   "execution_count": 243,
   "metadata": {
    "collapsed": true
   },
   "outputs": [],
   "source": [
    "single = tracksets[27]"
   ]
  },
  {
   "cell_type": "code",
   "execution_count": 245,
   "metadata": {
    "collapsed": true
   },
   "outputs": [],
   "source": [
    "vt_single = velocity.ring_velocity_derivatives(single, width=(0.65,), side=36, fps=2.5, x0 = x0,\n",
    "                              y0 = y0, skip = 1, grad = False)\n"
   ]
  },
  {
   "cell_type": "code",
   "execution_count": 247,
   "metadata": {},
   "outputs": [
    {
     "name": "stdout",
     "output_type": "stream",
     "text": [
      "0.0655539\n",
      "0.0457688\n"
     ]
    }
   ],
   "source": [
    "print vt_single['vring'].mean()\n",
    "print vt_single['vring'].std()"
   ]
  },
  {
   "cell_type": "code",
   "execution_count": 240,
   "metadata": {},
   "outputs": [
    {
     "data": {
      "image/png": "[encoded data removed]",
      "text/plain": [
       "<matplotlib.figure.Figure at 0x121e072d0>"
      ]
     },
     "metadata": {},
     "output_type": "display_data"
    }
   ],
   "source": [
    "plt.plot(vt_single['vring'])\n",
    "plt.show()"
   ]
  },
  {
   "cell_type": "code",
   "execution_count": 248,
   "metadata": {},
   "outputs": [
    {
     "name": "stdout",
     "output_type": "stream",
     "text": [
      "0.046169\n",
      "0.0459433\n",
      "0.0458556\n",
      "0.0454418\n",
      "0.0466276\n",
      "0.0456774\n",
      "0.0448112\n",
      "0.0460109\n",
      "0.0462981\n",
      "0.044383\n",
      "0.0442387\n",
      "0.045002\n",
      "0.0447054\n",
      "0.0463705\n",
      "0.0465153\n",
      "0.0450414\n",
      "0.0461759\n",
      "0.0469058\n",
      "0.0467359\n",
      "0.0482076\n",
      "0.0472755\n",
      "0.0466256\n",
      "0.0448313\n",
      "0.0471554\n",
      "0.0453729\n",
      "0.0466471\n",
      "0.0462484\n",
      "0.0457688\n",
      "0.0456124\n",
      "0.0457448\n",
      "0.0463453\n",
      "0.0464809\n",
      "0.0455562\n",
      "0.0469727\n",
      "0.0459719\n",
      "0.0481712\n",
      "0.0455367\n",
      "0.0485703\n",
      "0.0459881\n",
      "0.0467488\n",
      "0.0463936\n",
      "0.0473322\n",
      "0.045658\n",
      "0.0472544\n",
      "0.0450424\n",
      "0.0471155\n",
      "0.0454696\n",
      "0.0467026\n",
      "0.0463471\n",
      "0.0452458\n",
      "0.0457951\n",
      "0.0472094\n",
      "0.0442504\n",
      "0.0468846\n",
      "0.0460206\n",
      "0.0464898\n",
      "0.0431185\n",
      "0.0468859\n",
      "0.0442984\n",
      "0.0446405\n",
      "0.0447909\n",
      "0.0451617\n",
      "0.0450816\n",
      "0.0455956\n",
      "0.0449312\n",
      "0.0439681\n",
      "0.0444641\n",
      "0.0441614\n",
      "0.0446996\n",
      "0.0443623\n",
      "0.0448752\n",
      "0.0464901\n",
      "0.0467119\n",
      "0.0448691\n",
      "0.046267\n"
     ]
    }
   ],
   "source": [
    "for track, tdata in tracksets.iteritems():\n",
    "    v_single = velocity.ring_velocity_derivatives(tdata, width=(0.65,), side=36, fps=2.5, x0 = x0,\n",
    "                              y0 = y0, skip = 1, grad = False)\n",
    "    print v_single['vring'].std()"
   ]
  },
  {
   "cell_type": "code",
   "execution_count": 252,
   "metadata": {
    "collapsed": true
   },
   "outputs": [],
   "source": [
    "width3 = np.arange(0.5, 1, 0.025)\n",
    "result3 = list()"
   ]
  },
  {
   "cell_type": "code",
   "execution_count": 253,
   "metadata": {
    "collapsed": true
   },
   "outputs": [],
   "source": [
    "for iwidth in width3:\n",
    "    v = velocity.compile_noise(track_prefix, width = (iwidth,), cat = False, side = 36, fps = 2.5,\n",
    "                               ring = True, x0 = x0, y0= y0, skip = 1, grad = False)\n",
    "    vdata = v[prefix]\n",
    "    frame_data = helpy.load_framesets(vdata)\n",
    "    vs = list()\n",
    "    for f, fdata in frame_data.iteritems():\n",
    "            vring = fdata['vring']\n",
    "            vs.append(vring.mean())\n",
    "    vs = vs[10:-10]\n",
    "    result3.append(np.std(vs))"
   ]
  },
  {
   "cell_type": "code",
   "execution_count": 254,
   "metadata": {},
   "outputs": [
    {
     "data": {
      "text/plain": [
       "<matplotlib.collections.PathCollection at 0x11ce66a10>"
      ]
     },
     "execution_count": 254,
     "metadata": {},
     "output_type": "execute_result"
    }
   ],
   "source": [
    "plt.scatter(width3, result3)"
   ]
  },
  {
   "cell_type": "code",
   "execution_count": 255,
   "metadata": {},
   "outputs": [
    {
     "data": {
      "image/png": "[encoded data removed]",
      "text/plain": [
       "<matplotlib.figure.Figure at 0x11e1d3e10>"
      ]
     },
     "metadata": {},
     "output_type": "display_data"
    }
   ],
   "source": [
    "plt.show()"
   ]
  },
  {
   "cell_type": "code",
   "execution_count": 257,
   "metadata": {
    "collapsed": true
   },
   "outputs": [],
   "source": [
    "f, ax = plt.subplots()"
   ]
  },
  {
   "cell_type": "code",
   "execution_count": 258,
   "metadata": {},
   "outputs": [
    {
     "data": {
      "text/plain": [
       "(0.008, 0.02)"
      ]
     },
     "execution_count": 258,
     "metadata": {},
     "output_type": "execute_result"
    }
   ],
   "source": [
    "ax.set_ylim([0.008,0.02])"
   ]
  },
  {
   "cell_type": "code",
   "execution_count": 263,
   "metadata": {},
   "outputs": [
    {
     "data": {
      "text/plain": [
       "<matplotlib.collections.PathCollection at 0x1196a34d0>"
      ]
     },
     "execution_count": 263,
     "metadata": {},
     "output_type": "execute_result"
    }
   ],
   "source": [
    "ax.scatter(width3, result3)"
   ]
  },
  {
   "cell_type": "code",
   "execution_count": 264,
   "metadata": {
    "collapsed": true
   },
   "outputs": [],
   "source": [
    "fig = plt.figure()"
   ]
  },
  {
   "cell_type": "code",
   "execution_count": 270,
   "metadata": {},
   "outputs": [
    {
     "data": {
      "text/plain": [
       "<matplotlib.axes._subplots.AxesSubplot at 0x111bcfcd0>"
      ]
     },
     "execution_count": 270,
     "metadata": {},
     "output_type": "execute_result"
    }
   ],
   "source": [
    "fig.add_subplot(111)"
   ]
  },
  {
   "cell_type": "code",
   "execution_count": 271,
   "metadata": {
    "collapsed": true
   },
   "outputs": [],
   "source": [
    "fig.show()"
   ]
  },
  {
   "cell_type": "code",
   "execution_count": 272,
   "metadata": {},
   "outputs": [
    {
     "data": {
      "text/plain": [
       "0.0051614652185337185"
      ]
     },
     "execution_count": 272,
     "metadata": {},
     "output_type": "execute_result"
    }
   ],
   "source": [
    "0.0446996/np.sqrt(75)"
   ]
  },
  {
   "cell_type": "code",
   "execution_count": 273,
   "metadata": {},
   "outputs": [
    {
     "data": {
      "text/plain": [
       "array([ 0.5  ,  0.525,  0.55 ,  0.575,  0.6  ,  0.625,  0.65 ,  0.675,\n",
       "        0.7  ,  0.725,  0.75 ,  0.775,  0.8  ,  0.825,  0.85 ,  0.875,\n",
       "        0.9  ,  0.925,  0.95 ,  0.975])"
      ]
     },
     "execution_count": 273,
     "metadata": {},
     "output_type": "execute_result"
    }
   ],
   "source": [
    "width3"
   ]
  },
  {
   "cell_type": "code",
   "execution_count": 274,
   "metadata": {},
   "outputs": [
    {
     "data": {
      "text/plain": [
       "[0.015386885,\n",
       " 0.016054055,\n",
       " 0.016397422,\n",
       " 0.016463624,\n",
       " 0.016301921,\n",
       " 0.015962737,\n",
       " 0.015487866,\n",
       " 0.014918775,\n",
       " 0.014290972,\n",
       " 0.013634974,\n",
       " 0.012976308,\n",
       " 0.012335577,\n",
       " 0.011728612,\n",
       " 0.01116671,\n",
       " 0.010656971,\n",
       " 0.010203473,\n",
       " 0.0098056309,\n",
       " 0.0094615258,\n",
       " 0.0091670752,\n",
       " 0.0089170309]"
      ]
     },
     "execution_count": 274,
     "metadata": {},
     "output_type": "execute_result"
    }
   ],
   "source": [
    "result3"
   ]
  },
  {
   "cell_type": "code",
   "execution_count": null,
   "metadata": {
    "collapsed": true
   },
   "outputs": [],
   "source": []
  }
 ],
 "metadata": {
  "kernelspec": {
   "display_name": "Python 2",
   "language": "python",
   "name": "python2"
  },
  "language_info": {
   "codemirror_mode": {
    "name": "ipython",
    "version": 2
   },
   "file_extension": ".py",
   "mimetype": "text/x-python",
   "name": "python",
   "nbconvert_exporter": "python",
   "pygments_lexer": "ipython2",
   "version": "2.7.13"
  }
 },
 "nbformat": 4,
 "nbformat_minor": 2
}
